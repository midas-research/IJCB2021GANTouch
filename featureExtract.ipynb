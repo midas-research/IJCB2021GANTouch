{
  "nbformat": 4,
  "nbformat_minor": 0,
  "metadata": {
    "colab": {
      "name": "featureExtract.ipynb",
      "provenance": [],
      "collapsed_sections": [
        "dmc8-r29IGL2",
        "DAG7d5ehlHvK",
        "f6rH37TGlLIr",
        "Ee-dvMBnc7vp",
        "uw2Wlods0w2Y",
        "poLvXY_nJpFy",
        "VRKLHQSEwArs",
        "XgGP4x1rj1cf",
        "dP83kJ64RRh0",
        "W_7kbmeVeAv8",
        "_TArpL8y3Jp2",
        "7WBudhP4n525"
      ],
      "toc_visible": true
    },
    "kernelspec": {
      "display_name": "Python 3",
      "name": "python3"
    }
  },
  "cells": [
    {
      "cell_type": "markdown",
      "metadata": {
        "id": "E944TmRLk1j0"
      },
      "source": [
        "# Loading Google Drive"
      ]
    },
    {
      "cell_type": "code",
      "metadata": {
        "id": "Mz51Lyd9k-Ls"
      },
      "source": [
        "import os\n",
        "import pandas as pd\n",
        "import numpy as np\n",
        "from google.colab import drive\n",
        "import pickle\n",
        "from collections import defaultdict\n",
        "from tqdm import tqdm\n",
        "import matplotlib.pyplot as plt\n"
      ],
      "execution_count": null,
      "outputs": []
    },
    {
      "cell_type": "code",
      "metadata": {
        "colab": {
          "base_uri": "https://localhost:8080/"
        },
        "id": "2rgmjguIBrVb",
        "outputId": "1ea6ef5e-a671-4d41-9d63-0b2aebb4951d"
      },
      "source": [
        "drive.mount('/content/drive')\n",
        "os.chdir('/content/drive/My Drive/BBMAS_Touchstrokes/')"
      ],
      "execution_count": null,
      "outputs": [
        {
          "output_type": "stream",
          "name": "stdout",
          "text": [
            "Mounted at /content/drive\n"
          ]
        }
      ]
    },
    {
      "cell_type": "markdown",
      "metadata": {
        "id": "dmc8-r29IGL2"
      },
      "source": [
        "# **Helper Functions**"
      ]
    },
    {
      "cell_type": "code",
      "metadata": {
        "id": "IFGGLsfOdiJU"
      },
      "source": [
        "def pickling(fname, obj):\n",
        "  f = open(fname, \"wb\")\n",
        "  pickle.dump(obj, f)\n",
        "  f.close()\n",
        "\n",
        "def unpickling(fname):\n",
        "  f = open(fname, 'rb')\n",
        "  g = pickle.load(f) \n",
        "  f.close()\n",
        "  return g"
      ],
      "execution_count": null,
      "outputs": []
    },
    {
      "cell_type": "code",
      "metadata": {
        "id": "2hqb7LwrSpU6"
      },
      "source": [
        "# Function to convert a given time string to linux time\n",
        "# Input format: 'Y-m-d H:M:S.MS'\n",
        "def convert_time_to_linux(time_str):\n",
        "    pos = time_str.rfind(':')\n",
        "    time_str = \"\".join((time_str[:pos], '.', time_str[pos+1:])) \n",
        "    return pd.to_datetime(time_str).value//10**6"
      ],
      "execution_count": null,
      "outputs": []
    },
    {
      "cell_type": "code",
      "metadata": {
        "id": "Uf2AUwaTzqKE"
      },
      "source": [
        "def euclidean_distance(x1, y1, x2, y2):\n",
        "  return np.sqrt((x1-x2)**2 + (y1 - y2)**2)"
      ],
      "execution_count": null,
      "outputs": []
    },
    {
      "cell_type": "code",
      "metadata": {
        "id": "9kTN2_q-0Lyt"
      },
      "source": [
        "def length_of_swipe(swipe):\n",
        "  d = 0\n",
        "  for i in range(1,len(swipe)):\n",
        "    d += euclidean_distance(swipe[i-1]['Xvalue'], swipe[i-1]['Yvalue'], swipe[i]['Xvalue'], swipe[i]['Yvalue'])\n",
        "  return d"
      ],
      "execution_count": null,
      "outputs": []
    },
    {
      "cell_type": "code",
      "metadata": {
        "id": "jew6asPigVCi"
      },
      "source": [
        "def velocity_of_swipe(swipe):\n",
        "    displacement = euclidean_distance(swipe[0]['Xvalue'], swipe[0]['Yvalue'], swipe[-1]['Xvalue'], swipe[-1]['Yvalue'])\n",
        "    time = swipe[-1]['time'] - swipe[0]['time']\n",
        "    velocity = displacement/time\n",
        "    return velocity"
      ],
      "execution_count": null,
      "outputs": []
    },
    {
      "cell_type": "code",
      "metadata": {
        "id": "5BTEsX7ShSr4"
      },
      "source": [
        "def area_of_swipe(swipe):\n",
        "    # Area of each point and averaging it per swipe\n",
        "    area_per_point = 0\n",
        "    for i in range(0,len(swipe)-1):\n",
        "        area_per_point += np.pi * swipe[i]['touchMajor'] * swipe[i]['touchMinor']\n",
        "    avg_area = area_per_point/len(swipe)\n",
        "    return avg_area"
      ],
      "execution_count": null,
      "outputs": []
    },
    {
      "cell_type": "code",
      "metadata": {
        "id": "V7ZoCoAWrfuY"
      },
      "source": [
        "def median_area_of_swipe(swipe):\n",
        "    # Area of each point and averaging it per swipe\n",
        "    area_per_point = []\n",
        "    for i in range(0,len(swipe)-1):\n",
        "        area_per_point.append(np.pi * swipe[i]['touchMajor'] * swipe[i]['touchMinor'])\n",
        "    med_area = np.median(area_per_point)\n",
        "    return med_area"
      ],
      "execution_count": null,
      "outputs": []
    },
    {
      "cell_type": "code",
      "metadata": {
        "id": "fUpk5a4XlxfW"
      },
      "source": [
        "def number_of_swipes(df):\n",
        "    # To find swipes count which can be different among users for same task\n",
        "    swipes = extract_touches(df)\n",
        "    return len(swipes)"
      ],
      "execution_count": null,
      "outputs": []
    },
    {
      "cell_type": "code",
      "metadata": {
        "id": "twk8TbW4rdcp"
      },
      "source": [
        "def get_direction(x1, y1, x2, y2):\n",
        "  if(x2 == x1):\n",
        "    return (np.pi)/2\n",
        "  return np.arctan((y2 - y1)/(x2 - x1))"
      ],
      "execution_count": null,
      "outputs": []
    },
    {
      "cell_type": "code",
      "metadata": {
        "id": "9I1mc1_wDG0s"
      },
      "source": [
        "def acceleration_of_swipe(swipe):\n",
        "  velocity = velocity_of_swipe(swipe)\n",
        "  if (swipe[-1]['time'] - swipe[0]['time']) == 0:\n",
        "      return 0\n",
        "  return velocity/(swipe[-1]['time'] - swipe[0]['time'])"
      ],
      "execution_count": null,
      "outputs": []
    },
    {
      "cell_type": "code",
      "metadata": {
        "id": "IHsRkowhS16N"
      },
      "source": [
        "def get_pairwise_velocities_X(swipe):\n",
        "  v = [0]\n",
        "  for i in range(1, len(swipe)):\n",
        "    d = swipe[i]['Xvalue'] - swipe[i-1]['Xvalue']\n",
        "    t = swipe[i]['time'] - swipe[i-1]['time']\n",
        "    if(t == 0):\n",
        "      v.append(v[-1])\n",
        "      continue\n",
        "    v.append(d/t)\n",
        "  return v\n",
        "\n",
        "def get_pairwise_velocities_Y(swipe):\n",
        "  v = [0]\n",
        "  for i in range(1, len(swipe)):\n",
        "    d = swipe[i]['Yvalue'] - swipe[i-1]['Yvalue']\n",
        "    t = swipe[i]['time'] - swipe[i-1]['time']\n",
        "    if(t == 0):\n",
        "      v.append(v[-1])\n",
        "      continue\n",
        "    v.append(d/t)\n",
        "  return v"
      ],
      "execution_count": null,
      "outputs": []
    },
    {
      "cell_type": "code",
      "metadata": {
        "id": "Uny6ItTDSD0_"
      },
      "source": [
        "def get_pairwise_accelerations(swipe, velocities):\n",
        "  a = [0]\n",
        "  for i in range(1,len(velocities)):\n",
        "     dv = velocities[i] - velocities[i-1]\n",
        "     dt = swipe[i]['time'] - swipe[i-1]['time']\n",
        "     if(dt == 0):\n",
        "       a.append(a[-1])\n",
        "       continue\n",
        "     a.append(dv/dt)\n",
        "  return a"
      ],
      "execution_count": null,
      "outputs": []
    },
    {
      "cell_type": "code",
      "metadata": {
        "id": "HyNEnKEOIMTL"
      },
      "source": [
        "def get_average_acceleration(swipe):\n",
        "    # Getting acceleration for each point and averaging it per swipe\n",
        "    avg = 0\n",
        "    res = 0\n",
        "    for i in range(1,len(swipe)):\n",
        "        displacement = euclidean_distance(swipe[i-1]['Xvalue'], swipe[i-1]['Yvalue'], swipe[i]['Xvalue'], swipe[i]['Yvalue'])\n",
        "        time = swipe[i]['time'] - swipe[i-1]['time']\n",
        "        if time == 0:\n",
        "            continue\n",
        "        res += displacement/(time **2)\n",
        "    avg = res/len(swipe)\n",
        "    return avg"
      ],
      "execution_count": null,
      "outputs": []
    },
    {
      "cell_type": "code",
      "metadata": {
        "id": "_i2HRyb5J53C"
      },
      "source": [
        "def get_initial_acceleration(swipe):\n",
        "    # Considering inital 5 percent of points per swipe\n",
        "    n = 0.05 * len(swipe)\n",
        "    displacement = euclidean_distance(swipe[0]['Xvalue'], swipe[0]['Yvalue'], swipe[int(n)]['Xvalue'], swipe[int(n)]['Yvalue'])\n",
        "    time = swipe[int(n)]['time'] - swipe[0]['time']\n",
        "    if time == 0:\n",
        "        return 0\n",
        "    acc = displacement/(time ** 2)\n",
        "    return acc\n"
      ],
      "execution_count": null,
      "outputs": []
    },
    {
      "cell_type": "code",
      "metadata": {
        "id": "MXjte_ztNOVu"
      },
      "source": [
        "def get_acceleration_percentile_25(swipe):\n",
        "    # Considering inital 5 percent of points per swipe\n",
        "    n = 0.25 * len(swipe)\n",
        "    displacement = euclidean_distance(swipe[0]['Xvalue'], swipe[0]['Yvalue'], swipe[int(n)]['Xvalue'], swipe[int(n)]['Yvalue'])\n",
        "    time = swipe[int(n)]['time'] - swipe[0]['time']\n",
        "    if time == 0:\n",
        "        return 0\n",
        "    acc = displacement/(time ** 2)\n",
        "    return acc"
      ],
      "execution_count": null,
      "outputs": []
    },
    {
      "cell_type": "code",
      "metadata": {
        "id": "aWdzJyImNXdg"
      },
      "source": [
        "def get_acceleration_percentile_50(swipe):\n",
        "    # Considering inital 5 percent of points per swipe\n",
        "    n = 0.5 * len(swipe)\n",
        "    displacement = euclidean_distance(swipe[0]['Xvalue'], swipe[0]['Yvalue'], swipe[int(n)]['Xvalue'], swipe[int(n)]['Yvalue'])\n",
        "    time = swipe[int(n)]['time'] - swipe[0]['time']\n",
        "    if time == 0:\n",
        "        return 0\n",
        "    acc = displacement/(time ** 2)\n",
        "    return acc"
      ],
      "execution_count": null,
      "outputs": []
    },
    {
      "cell_type": "code",
      "metadata": {
        "id": "yNoh1X8WNczn"
      },
      "source": [
        "def get_acceleration_percentile_75(swipe):\n",
        "    # Considering inital 5 percent of points per swipe\n",
        "    n = 0.75 * len(swipe)\n",
        "    displacement = euclidean_distance(swipe[0]['Xvalue'], swipe[0]['Yvalue'], swipe[int(n)]['Xvalue'], swipe[int(n)]['Yvalue'])\n",
        "    time = swipe[int(n)]['time'] - swipe[0]['time']\n",
        "    if time == 0:\n",
        "        return 0\n",
        "    acc = displacement/(time ** 2)\n",
        "    return acc"
      ],
      "execution_count": null,
      "outputs": []
    },
    {
      "cell_type": "code",
      "metadata": {
        "id": "wlO7Y1eXKIW-"
      },
      "source": [
        "def get_final_acceleration(swipe):\n",
        "    # Considering final 5 percent of points per swipe\n",
        "    n = 0.05 * len(swipe)\n",
        "    displacement = euclidean_distance(swipe[int(-n)]['Xvalue'], swipe[int(-n)]['Yvalue'], swipe[-1]['Xvalue'], swipe[-1]['Yvalue'])\n",
        "    time = swipe[-1]['time'] - swipe[int(-n)]['time']\n",
        "    if time == 0:\n",
        "        return 0\n",
        "    acc = displacement/(time ** 2)\n",
        "    return acc"
      ],
      "execution_count": null,
      "outputs": []
    },
    {
      "cell_type": "code",
      "metadata": {
        "id": "HSAAdNaoFman"
      },
      "source": [
        "def get_initial_velocity(swipe):\n",
        "    # Considering inital 5 percent of points per swipe\n",
        "    n = 0.05 * len(swipe)\n",
        "    displacement = euclidean_distance(swipe[0]['Xvalue'], swipe[0]['Yvalue'], swipe[int(n)]['Xvalue'], swipe[int(n)]['Yvalue'])\n",
        "    time = swipe[int(n)]['time'] - swipe[0]['time']\n",
        "    if time == 0:\n",
        "        return 0\n",
        "    velocity = displacement/time\n",
        "    return velocity\n"
      ],
      "execution_count": null,
      "outputs": []
    },
    {
      "cell_type": "code",
      "metadata": {
        "id": "-wX0FNHLN2dT"
      },
      "source": [
        "def get_velocity_percentile_25(swipe):\n",
        "    # Considering inital 5 percent of points per swipe\n",
        "    n = 0.25 * len(swipe)\n",
        "    displacement = euclidean_distance(swipe[0]['Xvalue'], swipe[0]['Yvalue'], swipe[int(n)]['Xvalue'], swipe[int(n)]['Yvalue'])\n",
        "    time = swipe[int(n)]['time'] - swipe[0]['time']\n",
        "    if time == 0:\n",
        "        return 0\n",
        "    vel = displacement/time\n",
        "    return vel"
      ],
      "execution_count": null,
      "outputs": []
    },
    {
      "cell_type": "code",
      "metadata": {
        "id": "T4Y9FbiSN9FG"
      },
      "source": [
        "def get_velocity_percentile_50(swipe):\n",
        "    # Considering inital 5 percent of points per swipe\n",
        "    n = 0.5 * len(swipe)\n",
        "    displacement = euclidean_distance(swipe[0]['Xvalue'], swipe[0]['Yvalue'], swipe[int(n)]['Xvalue'], swipe[int(n)]['Yvalue'])\n",
        "    time = swipe[int(n)]['time'] - swipe[0]['time']\n",
        "    if time == 0:\n",
        "        return 0\n",
        "    vel = displacement/time\n",
        "    return vel"
      ],
      "execution_count": null,
      "outputs": []
    },
    {
      "cell_type": "code",
      "metadata": {
        "id": "R25N4o7ROAOD"
      },
      "source": [
        "def get_velocity_percentile_75(swipe):\n",
        "    # Considering inital 5 percent of points per swipe\n",
        "    n = 0.75 * len(swipe)\n",
        "    displacement = euclidean_distance(swipe[0]['Xvalue'], swipe[0]['Yvalue'], swipe[int(n)]['Xvalue'], swipe[int(n)]['Yvalue'])\n",
        "    time = swipe[int(n)]['time'] - swipe[0]['time']\n",
        "    if time == 0:\n",
        "        return 0\n",
        "    vel = displacement/time\n",
        "    return vel"
      ],
      "execution_count": null,
      "outputs": []
    },
    {
      "cell_type": "code",
      "metadata": {
        "id": "H42rP0mjFrzk"
      },
      "source": [
        "def get_final_velocity(swipe):\n",
        "    # Considering final 5 percent of points per swipe\n",
        "    n = 0.05 * len(swipe)\n",
        "    displacement = euclidean_distance(swipe[int(-n)]['Xvalue'], swipe[int(-n)]['Yvalue'], swipe[-1]['Xvalue'], swipe[-1]['Yvalue'])\n",
        "    time = swipe[-1]['time'] - swipe[int(-n)]['time']\n",
        "    if time == 0:\n",
        "        return 0\n",
        "    velocity = displacement/time\n",
        "    return velocity"
      ],
      "execution_count": null,
      "outputs": []
    },
    {
      "cell_type": "code",
      "metadata": {
        "id": "_Hr7Q37CFu2U"
      },
      "source": [
        "def get_average_velocity(swipe):\n",
        "    # Getting velocity for each point and averaging it per swipe\n",
        "    avg = 0\n",
        "    res = 0\n",
        "    for i in range(1,len(swipe)):\n",
        "        displacement = euclidean_distance(swipe[i-1]['Xvalue'], swipe[i-1]['Yvalue'], swipe[i]['Xvalue'], swipe[i]['Yvalue'])\n",
        "        time = swipe[i]['time'] - swipe[i-1]['time']\n",
        "        if time == 0:\n",
        "            continue\n",
        "        res += displacement/time\n",
        "    avg = res/len(swipe)\n",
        "    return avg"
      ],
      "execution_count": null,
      "outputs": []
    },
    {
      "cell_type": "code",
      "metadata": {
        "id": "eLCBP6wywOqS"
      },
      "source": [
        "def speed_of_swipe(swipe):\n",
        "    distance = length_of_swipe(swipe)\n",
        "    time = swipe[-1]['time'] - swipe[0]['time']\n",
        "    if time == 0:\n",
        "        return 0\n",
        "    speed = distance/time\n",
        "    return speed"
      ],
      "execution_count": null,
      "outputs": []
    },
    {
      "cell_type": "code",
      "metadata": {
        "id": "kXPAlgyO5t33"
      },
      "source": [
        "def get_final_speed(swipe):\n",
        "    # Considering inital 5 percent of points per swipe\n",
        "    n = 0.05 * len(swipe)\n",
        "    distance = 0\n",
        "    time = 0\n",
        "    for i in range(1,int(n)+1):\n",
        "        distance += euclidean_distance(swipe[-i-1]['Xvalue'], swipe[-i-1]['Yvalue'], swipe[-i]['Xvalue'], swipe[-i]['Yvalue'])\n",
        "        time += swipe[-i]['time'] - swipe[-i-1]['time']\n",
        "    if time == 0:\n",
        "        return 0\n",
        "    speed = distance/time\n",
        "    return speed "
      ],
      "execution_count": null,
      "outputs": []
    },
    {
      "cell_type": "code",
      "metadata": {
        "id": "kyMJcXaL679D"
      },
      "source": [
        "def get_initial_speed(swipe):\n",
        "    # Considering inital 5 percent of points per swipe\n",
        "    n = 0.05 * len(swipe)\n",
        "    distance = 0\n",
        "    time = 0\n",
        "    for i in range(1,int(n)+1):\n",
        "        distance += euclidean_distance(swipe[i-1]['Xvalue'], swipe[i-1]['Yvalue'], swipe[i]['Xvalue'], swipe[i]['Yvalue'])\n",
        "        time += swipe[i]['time'] - swipe[i-1]['time']\n",
        "    if time == 0:\n",
        "        return 0\n",
        "    speed = distance/time\n",
        "    return speed "
      ],
      "execution_count": null,
      "outputs": []
    },
    {
      "cell_type": "code",
      "metadata": {
        "id": "Kjq4e5mNMiCu"
      },
      "source": [
        "def get_speed_percentile_25(swipe):\n",
        "    # Considering inital 5 percent of points per swipe\n",
        "    n = 0.25 * len(swipe)\n",
        "    distance = 0\n",
        "    time = 0\n",
        "    for i in range(1,int(n)+1):\n",
        "        distance += euclidean_distance(swipe[i-1]['Xvalue'], swipe[i-1]['Yvalue'], swipe[i]['Xvalue'], swipe[i]['Yvalue'])\n",
        "        time += swipe[i]['time'] - swipe[i-1]['time']\n",
        "    if time == 0:\n",
        "        return 0\n",
        "    speed = distance/time\n",
        "    return speed "
      ],
      "execution_count": null,
      "outputs": []
    },
    {
      "cell_type": "code",
      "metadata": {
        "id": "IsEMN0_zNexC"
      },
      "source": [
        "def get_speed_percentile_50(swipe):\n",
        "    # Considering inital 5 percent of points per swipe\n",
        "    n = 0.50 * len(swipe)\n",
        "    distance = 0\n",
        "    time = 0\n",
        "    for i in range(1,int(n)+1):\n",
        "        distance += euclidean_distance(swipe[i-1]['Xvalue'], swipe[i-1]['Yvalue'], swipe[i]['Xvalue'], swipe[i]['Yvalue'])\n",
        "        time += swipe[i]['time'] - swipe[i-1]['time']\n",
        "    if time == 0:\n",
        "        return 0\n",
        "    speed = distance/time\n",
        "    return speed "
      ],
      "execution_count": null,
      "outputs": []
    },
    {
      "cell_type": "code",
      "metadata": {
        "id": "4ljndMJ5NjIh"
      },
      "source": [
        "def get_speed_percentile_75(swipe):\n",
        "    # Considering inital 5 percent of points per swipe\n",
        "    n = 0.75 * len(swipe)\n",
        "    distance = 0\n",
        "    time = 0\n",
        "    for i in range(1,int(n)+1):\n",
        "        distance += euclidean_distance(swipe[i-1]['Xvalue'], swipe[i-1]['Yvalue'], swipe[i]['Xvalue'], swipe[i]['Yvalue'])\n",
        "        time += swipe[i]['time'] - swipe[i-1]['time']\n",
        "    if time == 0:\n",
        "        return 0\n",
        "    speed = distance/time\n",
        "    return speed "
      ],
      "execution_count": null,
      "outputs": []
    },
    {
      "cell_type": "code",
      "metadata": {
        "id": "27u6vweg0Lc5"
      },
      "source": [
        "def get_deviations(swipe):\n",
        "  devs = []\n",
        "  if(swipe[0]['Xvalue'] == swipe[-1]['Xvalue']):\n",
        "    for i in swipe:\n",
        "      devs.append(abs(i['Xvalue'] - swipe[0]['Xvalue']))\n",
        "    return devs\n",
        "  if(swipe[0]['Yvalue'] == swipe[-1]['Yvalue']):\n",
        "    for i in swipe:\n",
        "      devs.append(abs(i['Yvalue'] - swipe[0]['Yvalue']))\n",
        "    return devs\n",
        "  p1 = np.array([swipe[0]['Xvalue'], swipe[0]['Yvalue']])\n",
        "  p2 = np.array([swipe[-1]['Xvalue'], swipe[-1]['Yvalue']])\n",
        "  for i in swipe:\n",
        "    p3 = np.array([i['Xvalue'], i['Yvalue']])\n",
        "    d = np.linalg.norm(np.cross(p2-p1, p1-p3))/np.linalg.norm(p2-p1)\n",
        "    devs.append(d)\n",
        "  return devs"
      ],
      "execution_count": null,
      "outputs": []
    },
    {
      "cell_type": "markdown",
      "metadata": {
        "id": "DAG7d5ehlHvK"
      },
      "source": [
        "# Feature Engineering"
      ]
    },
    {
      "cell_type": "code",
      "metadata": {
        "id": "DrhfD-S6y8Vx"
      },
      "source": [
        "def extract_features(swipe, df = None):\n",
        "  X = {}\n",
        "  vx = get_pairwise_velocities_X(swipe)\n",
        "  vy = get_pairwise_velocities_Y(swipe)\n",
        "  ax = get_pairwise_accelerations(swipe, vx)\n",
        "  ay = get_pairwise_accelerations(swipe, vy)\n",
        "  deviations = get_deviations(swipe)\n",
        "  \n",
        "  X['duration'] = swipe[-1]['time'] - swipe[0]['time'] #i\n",
        "  X['startX'] = swipe[0]['Xvalue'] #i\n",
        "  X['startY'] = swipe[0]['Yvalue'] #i\n",
        "  X['endX'] = swipe[-1]['Xvalue'] #i\n",
        "  X['endY'] = swipe[-1]['Yvalue'] #i\n",
        "  X['displacement'] = euclidean_distance(swipe[0]['Xvalue'], swipe[0]['Yvalue'], swipe[-1]['Xvalue'], swipe[-1]['Yvalue']) #d\n",
        "  X['length'] = length_of_swipe(swipe) #i\n",
        "  X['velocity'] = velocity_of_swipe(swipe) #d\n",
        "  X['initial_velocity'] = get_initial_velocity(swipe) #i\n",
        "  X['final_velocity'] = get_final_velocity(swipe) #i\n",
        "  X['avg_velocity'] = get_average_velocity(swipe) #i\n",
        "  X['direction'] = get_direction(swipe[0]['Xvalue'], swipe[0]['Yvalue'], swipe[-1]['Xvalue'], swipe[-1]['Yvalue']) #d\n",
        "  X['area'] = area_of_swipe(swipe) #i\n",
        "  X['acceleration'] = acceleration_of_swipe(swipe) #i\n",
        "  X['avg_acceleration'] = get_average_acceleration(swipe) #i\n",
        "  X['initial_acceleration'] = get_initial_acceleration(swipe) #i\n",
        "  X['final_acceleration'] = get_final_acceleration(swipe) #i\n",
        "  X['acceleration_percentile_25'] = get_acceleration_percentile_25(swipe) #i\n",
        "  X['acceleration_percentile_50'] = get_acceleration_percentile_50(swipe) #i\n",
        "  X['acceleration_percentile_75'] = get_acceleration_percentile_75(swipe) #i\n",
        "  X['velocity_percentile_25'] = get_velocity_percentile_25(swipe) #i\n",
        "  X['velocity_percentile_50'] = get_velocity_percentile_50(swipe) #i\n",
        "  X['velocity_percentile_75'] = get_velocity_percentile_75(swipe) #i\n",
        "  X['speed'] = speed_of_swipe(swipe) #d\n",
        "  X['initial_speed'] = get_initial_speed(swipe) #i\n",
        "  X['final_speed'] = get_final_speed(swipe) #i\n",
        "  X['speed_percentile_25'] = get_speed_percentile_25(swipe) #i\n",
        "  X['speed_percentile_50'] = get_speed_percentile_50(swipe) #i\n",
        "  X['speed_percentile_75'] = get_speed_percentile_75(swipe) #i\n",
        "  X['avg_vel_x'] = np.mean(vx)\n",
        "  X['avg_vel_y'] = np.mean(vy)\n",
        "  X['avg_acc_x'] = np.mean(ax)\n",
        "  X['avg_acc_y'] = np.mean(ay)\n",
        "  X['avg_devs'] = np.mean(deviations)\n",
        "  X['max_devs'] = np.max(deviations)\n",
        "  #trying\n",
        "  X['25%_vel_x'] = vx[len(vx)//4]\n",
        "  X['50%_vel_x'] = vx[len(vx)//2]\n",
        "  X['75%_vel_x'] = vx[len(vx)*3//4]\n",
        "  X['25%_vel_y'] = vy[len(vy)//4]\n",
        "  X['50%_vel_y'] = vy[len(vy)//2]\n",
        "  X['75%_vel_y'] = vy[len(vy)*3//4]\n",
        "  X['25%_acc_x'] = ax[len(ax)//4]\n",
        "  X['50%_acc_x'] = ax[len(ax)//2]\n",
        "  X['75%_acc_x'] = ax[len(ax)*3//4]\n",
        "  X['25%_acc_y'] = ay[len(ay)//4]\n",
        "  X['50%_acc_y'] = ay[len(ay)//2]\n",
        "  X['75%_acc_y'] = ay[len(ay)*3//4]\n",
        "  # X['median_area'] = median_area_of_swipe(swipe)\n",
        "  \n",
        "  final_X = []\n",
        "  for i in sorted(list(X.keys())):\n",
        "    final_X.append(X[i])\n",
        "  # X['swipe_count'] = number_of_swipes(df)\n",
        "  # If quadrant feature makes sense ?\n",
        "  # print(sorted(list(X.keys())))\n",
        "  # print(final_X)\n",
        "  return final_X"
      ],
      "execution_count": null,
      "outputs": []
    },
    {
      "cell_type": "code",
      "metadata": {
        "id": "43dV8tVRCDPv"
      },
      "source": [
        "def extract_touches(df, count):\n",
        "  swipes = []\n",
        "  swipe = []\n",
        "\n",
        "  for index, row in tqdm(df.iterrows()):\n",
        "    try:\n",
        "      nan_check = np.isnan(row['time'])\n",
        "      nan_check = True\n",
        "    except TypeError as e:\n",
        "      nan_check = False\n",
        "\n",
        "    if(not nan_check):\n",
        "      row['time'] = convert_time_to_linux(row['time'])\n",
        "      swipe.append(row)\n",
        "\n",
        "    if(row['actionType'] == 1):\n",
        "      if(len(swipe) <= 5):\n",
        "        count += 1\n",
        "        swipe = []\n",
        "        continue\n",
        "      swipes.append(extract_features(swipe))\n",
        "      swipe = []\n",
        "      continue\n",
        "  return swipes, count"
      ],
      "execution_count": null,
      "outputs": []
    },
    {
      "cell_type": "code",
      "metadata": {
        "colab": {
          "base_uri": "https://localhost:8080/"
        },
        "id": "zJMFQLPD-lyv",
        "outputId": "addec78d-bdce-4e64-eb1b-8b047894da35"
      },
      "source": [
        "!pwd"
      ],
      "execution_count": null,
      "outputs": [
        {
          "name": "stdout",
          "output_type": "stream",
          "text": [
            "/content/drive/.shortcut-targets-by-id/1Syra_U__eAe_iKmuKYWf9ykv4tC2_7tW/BBMAS_Touchstrokes\n"
          ]
        }
      ]
    },
    {
      "cell_type": "code",
      "metadata": {
        "colab": {
          "base_uri": "https://localhost:8080/",
          "height": 1000
        },
        "id": "KnlFGQh8CD98",
        "outputId": "ad18280d-f5ec-4b4a-e7ed-7476ce7732eb"
      },
      "source": [
        "count = 0\n",
        "result = []\n",
        "for i in range(1, 117):\n",
        "    print (i, count)\n",
        "    df = pd.read_csv('Tablet/User{}.csv'.format(i))\n",
        "    f, count = extract_touches(df, count)\n",
        "    result.append(len(f))\n",
        "print (count)"
      ],
      "execution_count": null,
      "outputs": [
        {
          "name": "stdout",
          "output_type": "stream",
          "text": [
            "1 0\n"
          ]
        },
        {
          "name": "stderr",
          "output_type": "stream",
          "text": [
            "4130it [00:01, 3405.18it/s]\n"
          ]
        },
        {
          "name": "stdout",
          "output_type": "stream",
          "text": [
            "2 3\n"
          ]
        },
        {
          "name": "stderr",
          "output_type": "stream",
          "text": [
            "5289it [00:01, 3414.63it/s]\n"
          ]
        },
        {
          "name": "stdout",
          "output_type": "stream",
          "text": [
            "3 8\n"
          ]
        },
        {
          "name": "stderr",
          "output_type": "stream",
          "text": [
            "2788it [00:00, 3277.22it/s]\n"
          ]
        },
        {
          "name": "stdout",
          "output_type": "stream",
          "text": [
            "4 49\n"
          ]
        },
        {
          "name": "stderr",
          "output_type": "stream",
          "text": [
            "3933it [00:01, 3432.69it/s]\n",
            "ERROR:root:Internal Python error in the inspect module.\n",
            "Below is the traceback from this internal error.\n",
            "\n"
          ]
        },
        {
          "name": "stdout",
          "output_type": "stream",
          "text": [
            "Traceback (most recent call last):\n",
            "  File \"/usr/local/lib/python3.7/dist-packages/IPython/core/interactiveshell.py\", line 2882, in run_code\n",
            "    exec(code_obj, self.user_global_ns, self.user_ns)\n",
            "  File \"<ipython-input-84-79528a6cef9c>\", line 6, in <module>\n",
            "    f, count = extract_touches(df, count)\n",
            "  File \"<ipython-input-82-77f46a4ef978>\", line 5, in extract_touches\n",
            "    for index, row in tqdm(df.iterrows()):\n",
            "  File \"/usr/local/lib/python3.7/dist-packages/tqdm/std.py\", line 1185, in __iter__\n",
            "    for obj in iterable:\n",
            "  File \"/usr/local/lib/python3.7/dist-packages/pandas/core/frame.py\", line 1014, in iterrows\n",
            "    s = klass(v, index=columns, name=k)\n",
            "  File \"/usr/local/lib/python3.7/dist-packages/pandas/core/series.py\", line 244, in __init__\n",
            "    index = ensure_index(index)\n",
            "KeyboardInterrupt\n",
            "\n",
            "During handling of the above exception, another exception occurred:\n",
            "\n",
            "Traceback (most recent call last):\n",
            "  File \"/usr/local/lib/python3.7/dist-packages/IPython/core/interactiveshell.py\", line 1823, in showtraceback\n",
            "    stb = value._render_traceback_()\n",
            "AttributeError: 'KeyboardInterrupt' object has no attribute '_render_traceback_'\n",
            "\n",
            "During handling of the above exception, another exception occurred:\n",
            "\n",
            "Traceback (most recent call last):\n",
            "  File \"/usr/local/lib/python3.7/dist-packages/IPython/core/ultratb.py\", line 1132, in get_records\n",
            "    return _fixed_getinnerframes(etb, number_of_lines_of_context, tb_offset)\n",
            "  File \"/usr/local/lib/python3.7/dist-packages/IPython/core/ultratb.py\", line 313, in wrapped\n",
            "    return f(*args, **kwargs)\n",
            "  File \"/usr/local/lib/python3.7/dist-packages/IPython/core/ultratb.py\", line 358, in _fixed_getinnerframes\n",
            "    records = fix_frame_records_filenames(inspect.getinnerframes(etb, context))\n",
            "  File \"/usr/lib/python3.7/inspect.py\", line 1502, in getinnerframes\n",
            "    frameinfo = (tb.tb_frame,) + getframeinfo(tb, context)\n",
            "  File \"/usr/lib/python3.7/inspect.py\", line 1460, in getframeinfo\n",
            "    filename = getsourcefile(frame) or getfile(frame)\n",
            "  File \"/usr/lib/python3.7/inspect.py\", line 696, in getsourcefile\n",
            "    if getattr(getmodule(object, filename), '__loader__', None) is not None:\n",
            "  File \"/usr/lib/python3.7/inspect.py\", line 725, in getmodule\n",
            "    file = getabsfile(object, _filename)\n",
            "  File \"/usr/lib/python3.7/inspect.py\", line 709, in getabsfile\n",
            "    return os.path.normcase(os.path.abspath(_filename))\n",
            "  File \"/usr/lib/python3.7/posixpath.py\", line 383, in abspath\n",
            "    cwd = os.getcwd()\n",
            "FileNotFoundError: [Errno 2] No such file or directory\n"
          ]
        },
        {
          "ename": "KeyboardInterrupt",
          "evalue": "ignored",
          "output_type": "error",
          "traceback": [
            "\u001b[0;31m---------------------------------------------------------------------------\u001b[0m"
          ]
        }
      ]
    },
    {
      "cell_type": "code",
      "metadata": {
        "id": "nk8tMCCrMTKA"
      },
      "source": [
        "print(result)\n",
        "print (sum(result))\n",
        "print(min(result))\n",
        "print(max(result))\n",
        "print(sum(result)/len(result))"
      ],
      "execution_count": null,
      "outputs": []
    },
    {
      "cell_type": "code",
      "metadata": {
        "id": "i9QeCYhywGnd"
      },
      "source": [
        "['acceleration', 'acceleration_percentile_25', 'acceleration_percentile_50', 'acceleration_percentile_75', 'area', 'avg_acc_x', 'avg_acc_y', 'avg_acceleration', 'avg_devs', 'avg_vel_x', 'avg_vel_y', 'avg_velocity', 'direction', 'displacement', 'duration', 'endX', 'endY', 'final_acceleration', 'final_speed', 'final_velocity', 'initial_acceleration', 'initial_speed', 'initial_velocity', 'length', 'max_devs', 'speed', 'speed_percentile_25', 'speed_percentile_50', 'speed_percentile_75', 'startX', 'startY', 'velocity', 'velocity_percentile_25', 'velocity_percentile_50', 'velocity_percentile_75']"
      ],
      "execution_count": null,
      "outputs": []
    },
    {
      "cell_type": "code",
      "metadata": {
        "id": "KgdWMvLRTMjU"
      },
      "source": [
        "f[0]"
      ],
      "execution_count": null,
      "outputs": []
    },
    {
      "cell_type": "markdown",
      "metadata": {
        "id": "Ee-dvMBnc7vp"
      },
      "source": [
        "# Data Preprocessing"
      ]
    },
    {
      "cell_type": "code",
      "metadata": {
        "colab": {
          "base_uri": "https://localhost:8080/",
          "height": 261,
          "referenced_widgets": [
            "cff1a91860fd41ba8405881f63492b27"
          ]
        },
        "id": "qClYQGSRHUae",
        "outputId": "deff9322-ae30-416a-dac3-ebafa83c3b8f"
      },
      "source": [
        "X = []\n",
        "y = []\n",
        "# extract processed CSVs and store for Phone\n",
        "data_dir = 'Phone/'\n",
        "demographs = pd.read_csv('Demographics.csv')\n",
        "id_map = {}\n",
        "u = []\n",
        "for index, row in demographs.iterrows():\n",
        "  id_map[row['User ID']] = row['Gender']\n",
        "user_files = os.listdir(data_dir)\n",
        "for user_file in tqdm(user_files):\n",
        "    #user_id = user_file.split('.')[0].replace('Copy of User', '')\n",
        "    if (str(user_file)[0] == 'C'):\n",
        "        continue\n",
        "    if (str(user_file).find('(') != -1): \n",
        "        continue\n",
        "    start = 'User'\n",
        "    end = '.csv'\n",
        "    user_id = user_file.split(start)[1].split(end)[0]\n",
        "    df = pd.read_csv(\"Phone/\" + user_file)\n",
        "    temp_X = extract_touches(df)\n",
        "    X.extend(temp_X)\n",
        "    y.extend([id_map[int(user_id)]]*len(temp_X))\n",
        "    u.extend([user_id]*len(temp_X))"
      ],
      "execution_count": null,
      "outputs": [
        {
          "data": {
            "application/vnd.jupyter.widget-view+json": {
              "model_id": "cff1a91860fd41ba8405881f63492b27",
              "version_major": 2,
              "version_minor": 0
            },
            "text/plain": [
              "  0%|          | 0/216 [00:00<?, ?it/s]"
            ]
          },
          "metadata": {
            "tags": []
          },
          "output_type": "display_data"
        },
        {
          "ename": "TypeError",
          "evalue": "ignored",
          "output_type": "error",
          "traceback": [
            "\u001b[0;31m---------------------------------------------------------------------------\u001b[0m",
            "\u001b[0;31mTypeError\u001b[0m                                 Traceback (most recent call last)",
            "\u001b[0;32m<ipython-input-45-d111b68cd7b6>\u001b[0m in \u001b[0;36m<module>\u001b[0;34m()\u001b[0m\n\u001b[1;32m     19\u001b[0m     \u001b[0muser_id\u001b[0m \u001b[0;34m=\u001b[0m \u001b[0muser_file\u001b[0m\u001b[0;34m.\u001b[0m\u001b[0msplit\u001b[0m\u001b[0;34m(\u001b[0m\u001b[0mstart\u001b[0m\u001b[0;34m)\u001b[0m\u001b[0;34m[\u001b[0m\u001b[0;36m1\u001b[0m\u001b[0;34m]\u001b[0m\u001b[0;34m.\u001b[0m\u001b[0msplit\u001b[0m\u001b[0;34m(\u001b[0m\u001b[0mend\u001b[0m\u001b[0;34m)\u001b[0m\u001b[0;34m[\u001b[0m\u001b[0;36m0\u001b[0m\u001b[0;34m]\u001b[0m\u001b[0;34m\u001b[0m\u001b[0;34m\u001b[0m\u001b[0m\n\u001b[1;32m     20\u001b[0m     \u001b[0mdf\u001b[0m \u001b[0;34m=\u001b[0m \u001b[0mpd\u001b[0m\u001b[0;34m.\u001b[0m\u001b[0mread_csv\u001b[0m\u001b[0;34m(\u001b[0m\u001b[0;34m\"Phone/\"\u001b[0m \u001b[0;34m+\u001b[0m \u001b[0muser_file\u001b[0m\u001b[0;34m)\u001b[0m\u001b[0;34m\u001b[0m\u001b[0;34m\u001b[0m\u001b[0m\n\u001b[0;32m---> 21\u001b[0;31m     \u001b[0mtemp_X\u001b[0m \u001b[0;34m=\u001b[0m \u001b[0mextract_touches\u001b[0m\u001b[0;34m(\u001b[0m\u001b[0mdf\u001b[0m\u001b[0;34m)\u001b[0m\u001b[0;34m\u001b[0m\u001b[0;34m\u001b[0m\u001b[0m\n\u001b[0m\u001b[1;32m     22\u001b[0m     \u001b[0mX\u001b[0m\u001b[0;34m.\u001b[0m\u001b[0mextend\u001b[0m\u001b[0;34m(\u001b[0m\u001b[0mtemp_X\u001b[0m\u001b[0;34m)\u001b[0m\u001b[0;34m\u001b[0m\u001b[0;34m\u001b[0m\u001b[0m\n\u001b[1;32m     23\u001b[0m     \u001b[0my\u001b[0m\u001b[0;34m.\u001b[0m\u001b[0mextend\u001b[0m\u001b[0;34m(\u001b[0m\u001b[0;34m[\u001b[0m\u001b[0mid_map\u001b[0m\u001b[0;34m[\u001b[0m\u001b[0mint\u001b[0m\u001b[0;34m(\u001b[0m\u001b[0muser_id\u001b[0m\u001b[0;34m)\u001b[0m\u001b[0;34m]\u001b[0m\u001b[0;34m]\u001b[0m\u001b[0;34m*\u001b[0m\u001b[0mlen\u001b[0m\u001b[0;34m(\u001b[0m\u001b[0mtemp_X\u001b[0m\u001b[0;34m)\u001b[0m\u001b[0;34m)\u001b[0m\u001b[0;34m\u001b[0m\u001b[0;34m\u001b[0m\u001b[0m\n",
            "\u001b[0;31mTypeError\u001b[0m: extract_touches() missing 1 required positional argument: 'count'"
          ]
        }
      ]
    },
    {
      "cell_type": "code",
      "metadata": {
        "id": "8BvrCl0Wl5XU"
      },
      "source": [
        "pickling(\"features_X.pkl\",X)\n",
        "pickling(\"features_Y.pkl\",y)\n",
        "pickling(\"Ids_U.pkl\",u)"
      ],
      "execution_count": null,
      "outputs": []
    },
    {
      "cell_type": "code",
      "metadata": {
        "colab": {
          "base_uri": "https://localhost:8080/"
        },
        "id": "6MZgAxXsO9H9",
        "outputId": "1885eecb-bda0-487f-cc5a-693a4bb78667"
      },
      "source": [
        "X = np.array(X)\n",
        "y = np.array(y)\n",
        "print (X.shape, y.shape)"
      ],
      "execution_count": null,
      "outputs": [
        {
          "name": "stdout",
          "output_type": "stream",
          "text": [
            "(0,) (0,)\n"
          ]
        }
      ]
    },
    {
      "cell_type": "code",
      "metadata": {
        "colab": {
          "base_uri": "https://localhost:8080/",
          "height": 162
        },
        "id": "ZBLQsTMopgtC",
        "outputId": "2ef17f8f-0cf7-46bb-9861-28ee47239934"
      },
      "source": [
        "X[110]"
      ],
      "execution_count": null,
      "outputs": [
        {
          "ename": "IndexError",
          "evalue": "ignored",
          "output_type": "error",
          "traceback": [
            "\u001b[0;31m---------------------------------------------------------------------------\u001b[0m",
            "\u001b[0;31mIndexError\u001b[0m                                Traceback (most recent call last)",
            "\u001b[0;32m<ipython-input-49-f462eb04ce2f>\u001b[0m in \u001b[0;36m<module>\u001b[0;34m()\u001b[0m\n\u001b[0;32m----> 1\u001b[0;31m \u001b[0mX\u001b[0m\u001b[0;34m[\u001b[0m\u001b[0;36m110\u001b[0m\u001b[0;34m]\u001b[0m\u001b[0;34m\u001b[0m\u001b[0;34m\u001b[0m\u001b[0m\n\u001b[0m",
            "\u001b[0;31mIndexError\u001b[0m: index 110 is out of bounds for axis 0 with size 0"
          ]
        }
      ]
    },
    {
      "cell_type": "markdown",
      "metadata": {
        "id": "uw2Wlods0w2Y"
      },
      "source": [
        "# Authentication Preprocessing"
      ]
    },
    {
      "cell_type": "code",
      "metadata": {
        "id": "iqfPYjqEz-P7"
      },
      "source": [
        "def create_sliding_window(X, Y, n):\n",
        "  final_X = []\n",
        "  final_Y = []\n",
        "  for i in range(len(X)- n):\n",
        "    temp = []\n",
        "    for j in range(i, i + n):\n",
        "      temp += X[j]\n",
        "    final_X.append(temp)\n",
        "    final_Y.append(Y[i+n])\n",
        "  return final_X, final_Y\n"
      ],
      "execution_count": null,
      "outputs": []
    },
    {
      "cell_type": "code",
      "metadata": {
        "colab": {
          "base_uri": "https://localhost:8080/"
        },
        "id": "nma2bCCg00aQ",
        "outputId": "53957dd0-cb91-480d-de92-eee49ae6ba50"
      },
      "source": [
        "X = unpickling(\"features_X.pkl\")\n",
        "y = unpickling(\"features_Y.pkl\")\n",
        "u = unpickling(\"Ids_U.pkl\")\n",
        "\n",
        "def binarize(u, id):\n",
        "  # print(id)\n",
        "  # print(u)\n",
        "  ans = []\n",
        "  for i in u:\n",
        "    if int(i) == int(id):\n",
        "      ans.append(1)\n",
        "    else:\n",
        "      ans.append(0)\n",
        "  return ans\n",
        "\n",
        "select_user = binarize(u, 2)\n",
        "\n",
        "# select_user = []\n",
        "# for i in range(117):\n",
        "#     val = i+1\n",
        "#     select_user.append(np.array(binarize(u, val)))\n",
        "#     break\n",
        "\n",
        "#print(select_user[0])\n",
        "print (np.array(X).shape)"
      ],
      "execution_count": null,
      "outputs": [
        {
          "name": "stdout",
          "output_type": "stream",
          "text": [
            "(0,)\n"
          ]
        }
      ]
    },
    {
      "cell_type": "code",
      "metadata": {
        "colab": {
          "base_uri": "https://localhost:8080/",
          "height": 162
        },
        "id": "isnlN2kj2_Bk",
        "outputId": "5b78c5ac-58aa-43b7-ef8d-63ec64227a5b"
      },
      "source": [
        "select_user[0]"
      ],
      "execution_count": null,
      "outputs": [
        {
          "ename": "IndexError",
          "evalue": "ignored",
          "output_type": "error",
          "traceback": [
            "\u001b[0;31m---------------------------------------------------------------------------\u001b[0m",
            "\u001b[0;31mIndexError\u001b[0m                                Traceback (most recent call last)",
            "\u001b[0;32m<ipython-input-59-f0a9d2e437c3>\u001b[0m in \u001b[0;36m<module>\u001b[0;34m()\u001b[0m\n\u001b[0;32m----> 1\u001b[0;31m \u001b[0mselect_user\u001b[0m\u001b[0;34m[\u001b[0m\u001b[0;36m0\u001b[0m\u001b[0;34m]\u001b[0m\u001b[0;34m\u001b[0m\u001b[0;34m\u001b[0m\u001b[0m\n\u001b[0m",
            "\u001b[0;31mIndexError\u001b[0m: list index out of range"
          ]
        }
      ]
    },
    {
      "cell_type": "code",
      "metadata": {
        "colab": {
          "base_uri": "https://localhost:8080/"
        },
        "id": "vlORqIze0401",
        "outputId": "f5a694e2-57c2-4f48-881b-6ecf3e8df970"
      },
      "source": [
        "## CREATING SLIDING WINDOW\n",
        "X, y = create_sliding_window(X, select_user, 5)\n",
        "X = np.array(X)\n",
        "y = np.array(y)\n",
        "print (X.shape, y.shape)"
      ],
      "execution_count": null,
      "outputs": [
        {
          "name": "stdout",
          "output_type": "stream",
          "text": [
            "(20281, 235) (20281,)\n"
          ]
        }
      ]
    },
    {
      "cell_type": "code",
      "metadata": {
        "colab": {
          "base_uri": "https://localhost:8080/"
        },
        "id": "3qAqJfUU3Hsw",
        "outputId": "fc4b26fe-2584-4fe4-e448-ed8b2d5a0027"
      },
      "source": [
        "np.unique(y)"
      ],
      "execution_count": null,
      "outputs": [
        {
          "data": {
            "text/plain": [
              "array([0, 1])"
            ]
          },
          "execution_count": 90,
          "metadata": {
            "tags": []
          },
          "output_type": "execute_result"
        }
      ]
    },
    {
      "cell_type": "code",
      "metadata": {
        "id": "9Yaq9kRd2D81"
      },
      "source": [
        "\n",
        "#New Try:\n",
        "# X = unpickling(\"features_X.pkl\")\n",
        "# y = unpickling(\"features_Y.pkl\")\n",
        "# u = unpickling(\"Ids_U.pkl\")\n",
        "\n",
        "# def binarize_select(X, u, id):\n",
        "#   users = {}\n",
        "#   for i in u:\n",
        "#     users[i] = []\n",
        "#   print (len(users))\n",
        "#   for i in range(len(u)):\n",
        "#     users[u[i]].append(X[i])\n",
        "#   legit = users[id]\n",
        "#   adversary = []\n",
        "#   for i in users:\n",
        "#     if i != id:\n",
        "#       idx = np.random.choice(len(users[i]), 2)\n",
        "#       adversary.extend(list(np.array(users[i])[idx]))\n",
        "#   return np.array(legit), np.array(adversary)\n",
        "\n",
        "\n",
        "# legit, adversary = np.array(binarize_select(X, u, '116'))\n",
        "# X = np.concatenate((legit, adversary))\n",
        "# y = np.concatenate((np.ones(legit.shape[0]), np.zeros(adversary.shape[0])))\n"
      ],
      "execution_count": null,
      "outputs": []
    },
    {
      "cell_type": "code",
      "metadata": {
        "id": "thh8rgFYc7Er"
      },
      "source": [
        "# Need to try ADASYN as well\n",
        "X_matrix, y_vector = SMOTE(kind='svm').fit_sample(X, y)\n",
        "# X_matrix, y_vector = SMOTE(kind='svm').fit_sample(X, select_user)\n",
        "scaler = preprocessing.StandardScaler()\n",
        "X_matrix = scaler.fit_transform(X_matrix)\n",
        "\n",
        "# Split the dataset in two equal parts to remove unseen data\n",
        "\n",
        "X_train, X_test, y_train, y_test = train_test_split(\n",
        "X_matrix, y_vector, test_size=0.4, stratify = y_vector, random_state=0)"
      ],
      "execution_count": null,
      "outputs": []
    },
    {
      "cell_type": "code",
      "metadata": {
        "colab": {
          "base_uri": "https://localhost:8080/"
        },
        "id": "FnYu4WXjkxAs",
        "outputId": "5f8ea0e1-1d01-4939-ba5c-823b8d22affe"
      },
      "source": [
        "y_train[0]"
      ],
      "execution_count": null,
      "outputs": [
        {
          "data": {
            "text/plain": [
              "1"
            ]
          },
          "execution_count": 93,
          "metadata": {
            "tags": []
          },
          "output_type": "execute_result"
        }
      ]
    },
    {
      "cell_type": "code",
      "metadata": {
        "colab": {
          "base_uri": "https://localhost:8080/"
        },
        "id": "gsVV4opgV53h",
        "outputId": "4c861291-c672-421f-a3fa-f8468d761c40"
      },
      "source": [
        "print(X_train.shape)\n",
        "print(y_train.shape)"
      ],
      "execution_count": null,
      "outputs": [
        {
          "name": "stdout",
          "output_type": "stream",
          "text": [
            "(17456, 235)\n",
            "(17456,)\n"
          ]
        }
      ]
    },
    {
      "cell_type": "markdown",
      "metadata": {
        "id": "VRKLHQSEwArs"
      },
      "source": [
        "# Authentication"
      ]
    },
    {
      "cell_type": "code",
      "metadata": {
        "id": "EmHD5UXyv_R8"
      },
      "source": [
        "X = unpickling(\"features_X.pkl\")\n",
        "y = unpickling(\"features_Y.pkl\")\n",
        "u = unpickling(\"Ids_U.pkl\")"
      ],
      "execution_count": null,
      "outputs": []
    },
    {
      "cell_type": "code",
      "metadata": {
        "colab": {
          "base_uri": "https://localhost:8080/"
        },
        "id": "9iAvboJMwQV3",
        "outputId": "8ddbd588-7399-499b-c251-f37c32661d22"
      },
      "source": [
        "np.unique(u)"
      ],
      "execution_count": null,
      "outputs": [
        {
          "data": {
            "text/plain": [
              "array(['1', '10', '100', '101', '102', '103', '104', '105', '106', '107',\n",
              "       '108', '109', '11', '110', '111', '112', '113', '114', '115',\n",
              "       '116', '12', '13', '14', '15', '16', '17', '18', '19', '2', '20',\n",
              "       '21', '22', '23', '24', '25', '26', '27', '28', '29', '3', '30',\n",
              "       '31', '32', '33', '34', '35', '36', '37', '38', '39', '4', '40',\n",
              "       '41', '42', '43', '44', '45', '46', '47', '48', '49', '5', '50',\n",
              "       '51', '52', '53', '54', '55', '56', '57', '58', '59', '6', '60',\n",
              "       '61', '62', '63', '64', '65', '66', '67', '68', '69', '7', '70',\n",
              "       '71', '72', '73', '74', '75', '76', '77', '78', '79', '8', '80',\n",
              "       '81', '82', '83', '84', '85', '86', '87', '88', '89', '9', '90',\n",
              "       '91', '92', '93', '94', '95', '96', '97', '98', '99'], dtype='<U3')"
            ]
          },
          "execution_count": 37,
          "metadata": {
            "tags": []
          },
          "output_type": "execute_result"
        }
      ]
    },
    {
      "cell_type": "code",
      "metadata": {
        "id": "PtXyqLv1wUFI"
      },
      "source": [
        "def binarize_select(X, u, id):\n",
        "  users = {}\n",
        "  for i in u:\n",
        "    users[i] = []\n",
        "  print (len(users))\n",
        "  for i in range(len(u)):\n",
        "    users[u[i]].append(X[i])\n",
        "  legit = users[id]\n",
        "  adversary = []\n",
        "  for i in users:\n",
        "    if i != id:\n",
        "      idx = np.random.choice(len(users[i]), 2)\n",
        "      adversary.extend(list(np.array(users[i])[idx]))\n",
        "  return np.array(legit), np.array(adversary)"
      ],
      "execution_count": null,
      "outputs": []
    },
    {
      "cell_type": "markdown",
      "metadata": {
        "id": "Fi1YKZrvwkmV"
      },
      "source": [
        "### Helper functions"
      ]
    },
    {
      "cell_type": "code",
      "metadata": {
        "colab": {
          "base_uri": "https://localhost:8080/"
        },
        "id": "x2qivrJt9u91",
        "outputId": "4e47e842-4629-483a-f448-6b0c83d98592"
      },
      "source": [
        "legit, adversary = np.array(binarize_select(X, u, '116'))"
      ],
      "execution_count": null,
      "outputs": [
        {
          "name": "stdout",
          "output_type": "stream",
          "text": [
            "116\n"
          ]
        },
        {
          "name": "stderr",
          "output_type": "stream",
          "text": [
            "/usr/local/lib/python3.6/dist-packages/ipykernel_launcher.py:1: VisibleDeprecationWarning: Creating an ndarray from ragged nested sequences (which is a list-or-tuple of lists-or-tuples-or ndarrays with different lengths or shapes) is deprecated. If you meant to do this, you must specify 'dtype=object' when creating the ndarray\n",
            "  \"\"\"Entry point for launching an IPython kernel.\n"
          ]
        }
      ]
    },
    {
      "cell_type": "code",
      "metadata": {
        "id": "3rwPzE8hzNl-"
      },
      "source": [
        "y = np.ones(legit.shape[0])"
      ],
      "execution_count": null,
      "outputs": []
    },
    {
      "cell_type": "code",
      "metadata": {
        "id": "1Wvpbw1lzQwG"
      },
      "source": [
        "y = np.concatenate((y, np.zeros(adversary.shape[0])))"
      ],
      "execution_count": null,
      "outputs": []
    },
    {
      "cell_type": "code",
      "metadata": {
        "id": "F5ihjYql04yu"
      },
      "source": [
        "X = np.concatenate((legit, adversary))"
      ],
      "execution_count": null,
      "outputs": []
    },
    {
      "cell_type": "code",
      "metadata": {
        "colab": {
          "base_uri": "https://localhost:8080/"
        },
        "id": "4bf_MU_e1MQp",
        "outputId": "eec70988-829e-4a56-d4ec-b165fbea6e76"
      },
      "source": [
        "y.shape"
      ],
      "execution_count": null,
      "outputs": [
        {
          "data": {
            "text/plain": [
              "(453,)"
            ]
          },
          "execution_count": 116,
          "metadata": {
            "tags": []
          },
          "output_type": "execute_result"
        }
      ]
    },
    {
      "cell_type": "code",
      "metadata": {
        "colab": {
          "base_uri": "https://localhost:8080/"
        },
        "id": "sC-uzdLn2QlF",
        "outputId": "82c5fea2-b2e1-4643-eb03-daa6bd06adf3"
      },
      "source": [
        "X.shape"
      ],
      "execution_count": null,
      "outputs": [
        {
          "data": {
            "text/plain": [
              "(453, 47)"
            ]
          },
          "execution_count": 112,
          "metadata": {
            "tags": []
          },
          "output_type": "execute_result"
        }
      ]
    },
    {
      "cell_type": "code",
      "metadata": {
        "colab": {
          "base_uri": "https://localhost:8080/"
        },
        "id": "xD6sbePz2RbG",
        "outputId": "6d6e09d3-c545-4388-c489-5b77d3e4441a"
      },
      "source": [
        "y"
      ],
      "execution_count": null,
      "outputs": [
        {
          "data": {
            "text/plain": [
              "array([1., 1., 1., 1., 1., 1., 1., 1., 1., 1., 1., 1., 1., 1., 1., 1., 1.,\n",
              "       1., 1., 1., 1., 1., 1., 1., 1., 1., 1., 1., 1., 1., 1., 1., 1., 1.,\n",
              "       1., 1., 1., 1., 1., 1., 1., 1., 1., 1., 1., 1., 1., 1., 1., 1., 1.,\n",
              "       1., 1., 1., 1., 1., 1., 1., 1., 1., 1., 1., 1., 1., 1., 1., 1., 1.,\n",
              "       1., 1., 1., 1., 1., 1., 1., 1., 1., 1., 1., 1., 1., 1., 1., 1., 1.,\n",
              "       1., 1., 1., 1., 1., 1., 1., 1., 1., 1., 1., 1., 1., 1., 1., 1., 1.,\n",
              "       1., 1., 1., 1., 1., 1., 1., 1., 1., 1., 1., 1., 1., 1., 1., 1., 1.,\n",
              "       1., 1., 1., 1., 1., 1., 1., 1., 1., 1., 1., 1., 1., 1., 1., 1., 1.,\n",
              "       1., 1., 1., 1., 1., 1., 1., 1., 1., 1., 1., 1., 1., 1., 1., 1., 1.,\n",
              "       1., 1., 1., 1., 1., 1., 1., 1., 1., 1., 1., 1., 1., 1., 1., 1., 1.,\n",
              "       1., 1., 1., 1., 1., 1., 1., 1., 1., 1., 1., 1., 1., 1., 1., 1., 1.,\n",
              "       1., 1., 1., 1., 1., 1., 1., 1., 1., 1., 1., 1., 1., 1., 1., 1., 1.,\n",
              "       1., 1., 1., 1., 1., 1., 1., 1., 1., 1., 1., 1., 1., 1., 1., 1., 1.,\n",
              "       1., 1., 0., 0., 0., 0., 0., 0., 0., 0., 0., 0., 0., 0., 0., 0., 0.,\n",
              "       0., 0., 0., 0., 0., 0., 0., 0., 0., 0., 0., 0., 0., 0., 0., 0., 0.,\n",
              "       0., 0., 0., 0., 0., 0., 0., 0., 0., 0., 0., 0., 0., 0., 0., 0., 0.,\n",
              "       0., 0., 0., 0., 0., 0., 0., 0., 0., 0., 0., 0., 0., 0., 0., 0., 0.,\n",
              "       0., 0., 0., 0., 0., 0., 0., 0., 0., 0., 0., 0., 0., 0., 0., 0., 0.,\n",
              "       0., 0., 0., 0., 0., 0., 0., 0., 0., 0., 0., 0., 0., 0., 0., 0., 0.,\n",
              "       0., 0., 0., 0., 0., 0., 0., 0., 0., 0., 0., 0., 0., 0., 0., 0., 0.,\n",
              "       0., 0., 0., 0., 0., 0., 0., 0., 0., 0., 0., 0., 0., 0., 0., 0., 0.,\n",
              "       0., 0., 0., 0., 0., 0., 0., 0., 0., 0., 0., 0., 0., 0., 0., 0., 0.,\n",
              "       0., 0., 0., 0., 0., 0., 0., 0., 0., 0., 0., 0., 0., 0., 0., 0., 0.,\n",
              "       0., 0., 0., 0., 0., 0., 0., 0., 0., 0., 0., 0., 0., 0., 0., 0., 0.,\n",
              "       0., 0., 0., 0., 0., 0., 0., 0., 0., 0., 0., 0., 0., 0., 0., 0., 0.,\n",
              "       0., 0., 0., 0., 0., 0., 0., 0., 0., 0., 0., 0., 0., 0., 0., 0., 0.,\n",
              "       0., 0., 0., 0., 0., 0., 0., 0., 0., 0., 0.])"
            ]
          },
          "execution_count": 117,
          "metadata": {
            "tags": []
          },
          "output_type": "execute_result"
        }
      ]
    },
    {
      "cell_type": "code",
      "metadata": {
        "id": "xxGKD9ck2Si9"
      },
      "source": [
        ""
      ],
      "execution_count": null,
      "outputs": []
    },
    {
      "cell_type": "markdown",
      "metadata": {
        "id": "XgGP4x1rj1cf"
      },
      "source": [
        "# Population Attack"
      ]
    },
    {
      "cell_type": "code",
      "metadata": {
        "id": "Ar-n2KQ7m-i-"
      },
      "source": [
        "import random\n",
        "import numpy as np"
      ],
      "execution_count": null,
      "outputs": []
    },
    {
      "cell_type": "code",
      "metadata": {
        "id": "qxlk2ACKj474"
      },
      "source": [
        "def population_attack(X, n = 1):\n",
        "\tus = [np.mean(X[:,i]) for i in range(X.shape[1])]\n",
        "\tss = [np.std(X[:,i]) for i in range(X.shape[1])]\n",
        "\n",
        "\tswipes = []\n",
        "\tfor i in range(n):\n",
        "\t\tswipe = [us[i] + random.normalvariate(0, 1)*ss[i] for i in range(X.shape[1])]\n",
        "\t\tswipes.append(swipe)\n",
        "\treturn swipes\n"
      ],
      "execution_count": null,
      "outputs": []
    },
    {
      "cell_type": "code",
      "metadata": {
        "id": "welfP0Yjj5sE"
      },
      "source": [
        "X = unpickling('features_X.pkl')"
      ],
      "execution_count": null,
      "outputs": []
    },
    {
      "cell_type": "code",
      "metadata": {
        "id": "RYjT_yLtm2Rc"
      },
      "source": [
        "pop_data_1000 = population_attack(np.array(X), 1000)"
      ],
      "execution_count": null,
      "outputs": []
    },
    {
      "cell_type": "code",
      "metadata": {
        "id": "FM0at-1Mm4Ys"
      },
      "source": [
        "pickling(\"pop_attack_data_1000.pkl\", pop_data_1000)"
      ],
      "execution_count": null,
      "outputs": []
    },
    {
      "cell_type": "code",
      "metadata": {
        "id": "4LnQIZRZjMZz"
      },
      "source": [
        "def attack(pkl, model):\n",
        "  x = unpickling(pkl)\n",
        "  y = [0]*len(x)\n",
        "  y_pred = model.predict(x, y)\n",
        "  far, frr, hter = HTER(y, y_pred)\n",
        "  print (\"Accuracy:\", accuracy_score(y_true, y_pred))\n",
        "  print (\"FAR:\", far)\n",
        "  print (\"FRR\", frr)\n",
        "  print (\"HTER\", hter)"
      ],
      "execution_count": null,
      "outputs": []
    },
    {
      "cell_type": "markdown",
      "metadata": {
        "id": "dP83kJ64RRh0"
      },
      "source": [
        "# BTAS Serwadda"
      ]
    },
    {
      "cell_type": "code",
      "metadata": {
        "id": "88V7pz-eSBbF"
      },
      "source": [
        "def extract_touches(df):\n",
        "  users = {}\n",
        "  swipes = []\n",
        "  swipe = []\n",
        "  prev_ID = None\n",
        "  prev_user_ID = -1\n",
        "  for index, row in tqdm(df.iterrows()):\n",
        "    # print (len(swipes))\n",
        "    try:\n",
        "      nan_check = np.isnan(row['time'])\n",
        "      nan_check = True\n",
        "    except TypeError as e:\n",
        "      nan_check = False\n",
        "    if prev_user_ID != row['UserID']:\n",
        "      users[prev_user_ID] = swipes\n",
        "      swipes = []\n",
        "      swipe = []\n",
        "      prev_user_ID = row['UserID']\n",
        "    if prev_ID != row['SwipeID']:\n",
        "      if(len(swipe) > 5):\n",
        "        swipes.append(extract_features(swipe))\n",
        "        swipe = []\n",
        "      else:\n",
        "        swipe = []\n",
        "      swipe.append(row)\n",
        "      prev_ID = row['SwipeID']\n",
        "    else:\n",
        "      swipe.append(row)\n",
        "  if(len(swipe) > 5):\n",
        "    swipes.append(extract_features(swipe))\n",
        "  users[prev_user_ID] = swipes\n",
        "  return users"
      ],
      "execution_count": null,
      "outputs": []
    },
    {
      "cell_type": "code",
      "metadata": {
        "id": "ufPj7JguRXBe"
      },
      "source": [
        "df = pd.read_csv('BTAS2013Serwadda/PortraitSession1.csv')"
      ],
      "execution_count": null,
      "outputs": []
    },
    {
      "cell_type": "code",
      "metadata": {
        "id": "tmKKwmV6Rk4c"
      },
      "source": [
        "df['Xvalue'] = df['X']\n",
        "df['Yvalue'] = df['Y']\n",
        "df['time'] = df['EventTime']\n",
        "df['touchMajor'] = df['Area']\n",
        "df['touchMinor'] = [1/np.pi]*len(df['Area'])"
      ],
      "execution_count": null,
      "outputs": []
    },
    {
      "cell_type": "code",
      "metadata": {
        "colab": {
          "base_uri": "https://localhost:8080/",
          "height": 488
        },
        "id": "fDIPtEPiSYA4",
        "outputId": "71f9860c-d185-40d0-8dda-f2521238ce4a"
      },
      "source": [
        "df"
      ],
      "execution_count": null,
      "outputs": [
        {
          "output_type": "execute_result",
          "data": {
            "text/html": [
              "\n",
              "  <div id=\"df-a27e5d78-ecc0-4320-80b3-57bb8c42b6c1\">\n",
              "    <div class=\"colab-df-container\">\n",
              "      <div>\n",
              "<style scoped>\n",
              "    .dataframe tbody tr th:only-of-type {\n",
              "        vertical-align: middle;\n",
              "    }\n",
              "\n",
              "    .dataframe tbody tr th {\n",
              "        vertical-align: top;\n",
              "    }\n",
              "\n",
              "    .dataframe thead th {\n",
              "        text-align: right;\n",
              "    }\n",
              "</style>\n",
              "<table border=\"1\" class=\"dataframe\">\n",
              "  <thead>\n",
              "    <tr style=\"text-align: right;\">\n",
              "      <th></th>\n",
              "      <th>UserID</th>\n",
              "      <th>SwipeID</th>\n",
              "      <th>X</th>\n",
              "      <th>Y</th>\n",
              "      <th>Pressure</th>\n",
              "      <th>Area</th>\n",
              "      <th>EventTime</th>\n",
              "      <th>Xvalue</th>\n",
              "      <th>Yvalue</th>\n",
              "      <th>time</th>\n",
              "      <th>touchMajor</th>\n",
              "      <th>touchMinor</th>\n",
              "    </tr>\n",
              "  </thead>\n",
              "  <tbody>\n",
              "    <tr>\n",
              "      <th>0</th>\n",
              "      <td>1</td>\n",
              "      <td>1</td>\n",
              "      <td>366.56250</td>\n",
              "      <td>500.00000</td>\n",
              "      <td>0.7500</td>\n",
              "      <td>0.266667</td>\n",
              "      <td>5294067</td>\n",
              "      <td>366.56250</td>\n",
              "      <td>500.00000</td>\n",
              "      <td>5294067</td>\n",
              "      <td>0.266667</td>\n",
              "      <td>0.31831</td>\n",
              "    </tr>\n",
              "    <tr>\n",
              "      <th>1</th>\n",
              "      <td>1</td>\n",
              "      <td>1</td>\n",
              "      <td>374.53125</td>\n",
              "      <td>457.81250</td>\n",
              "      <td>0.7500</td>\n",
              "      <td>0.233333</td>\n",
              "      <td>5294098</td>\n",
              "      <td>374.53125</td>\n",
              "      <td>457.81250</td>\n",
              "      <td>5294098</td>\n",
              "      <td>0.233333</td>\n",
              "      <td>0.31831</td>\n",
              "    </tr>\n",
              "    <tr>\n",
              "      <th>2</th>\n",
              "      <td>1</td>\n",
              "      <td>1</td>\n",
              "      <td>382.96875</td>\n",
              "      <td>420.31250</td>\n",
              "      <td>0.7500</td>\n",
              "      <td>0.266667</td>\n",
              "      <td>5294126</td>\n",
              "      <td>382.96875</td>\n",
              "      <td>420.31250</td>\n",
              "      <td>5294126</td>\n",
              "      <td>0.266667</td>\n",
              "      <td>0.31831</td>\n",
              "    </tr>\n",
              "    <tr>\n",
              "      <th>3</th>\n",
              "      <td>1</td>\n",
              "      <td>1</td>\n",
              "      <td>385.78125</td>\n",
              "      <td>404.68750</td>\n",
              "      <td>0.7500</td>\n",
              "      <td>0.233333</td>\n",
              "      <td>5294141</td>\n",
              "      <td>385.78125</td>\n",
              "      <td>404.68750</td>\n",
              "      <td>5294141</td>\n",
              "      <td>0.233333</td>\n",
              "      <td>0.31831</td>\n",
              "    </tr>\n",
              "    <tr>\n",
              "      <th>4</th>\n",
              "      <td>1</td>\n",
              "      <td>1</td>\n",
              "      <td>390.93750</td>\n",
              "      <td>388.28125</td>\n",
              "      <td>0.7500</td>\n",
              "      <td>0.200000</td>\n",
              "      <td>5294156</td>\n",
              "      <td>390.93750</td>\n",
              "      <td>388.28125</td>\n",
              "      <td>5294156</td>\n",
              "      <td>0.200000</td>\n",
              "      <td>0.31831</td>\n",
              "    </tr>\n",
              "    <tr>\n",
              "      <th>...</th>\n",
              "      <td>...</td>\n",
              "      <td>...</td>\n",
              "      <td>...</td>\n",
              "      <td>...</td>\n",
              "      <td>...</td>\n",
              "      <td>...</td>\n",
              "      <td>...</td>\n",
              "      <td>...</td>\n",
              "      <td>...</td>\n",
              "      <td>...</td>\n",
              "      <td>...</td>\n",
              "      <td>...</td>\n",
              "    </tr>\n",
              "    <tr>\n",
              "      <th>727164</th>\n",
              "      <td>138</td>\n",
              "      <td>199</td>\n",
              "      <td>229.68750</td>\n",
              "      <td>672.65625</td>\n",
              "      <td>0.6250</td>\n",
              "      <td>0.233333</td>\n",
              "      <td>842659</td>\n",
              "      <td>229.68750</td>\n",
              "      <td>672.65625</td>\n",
              "      <td>842659</td>\n",
              "      <td>0.233333</td>\n",
              "      <td>0.31831</td>\n",
              "    </tr>\n",
              "    <tr>\n",
              "      <th>727165</th>\n",
              "      <td>138</td>\n",
              "      <td>199</td>\n",
              "      <td>206.71875</td>\n",
              "      <td>671.87500</td>\n",
              "      <td>0.6250</td>\n",
              "      <td>0.266667</td>\n",
              "      <td>842674</td>\n",
              "      <td>206.71875</td>\n",
              "      <td>671.87500</td>\n",
              "      <td>842674</td>\n",
              "      <td>0.266667</td>\n",
              "      <td>0.31831</td>\n",
              "    </tr>\n",
              "    <tr>\n",
              "      <th>727166</th>\n",
              "      <td>138</td>\n",
              "      <td>199</td>\n",
              "      <td>182.81250</td>\n",
              "      <td>675.00000</td>\n",
              "      <td>0.6250</td>\n",
              "      <td>0.200000</td>\n",
              "      <td>842689</td>\n",
              "      <td>182.81250</td>\n",
              "      <td>675.00000</td>\n",
              "      <td>842689</td>\n",
              "      <td>0.200000</td>\n",
              "      <td>0.31831</td>\n",
              "    </tr>\n",
              "    <tr>\n",
              "      <th>727167</th>\n",
              "      <td>138</td>\n",
              "      <td>199</td>\n",
              "      <td>160.78125</td>\n",
              "      <td>673.43750</td>\n",
              "      <td>0.6250</td>\n",
              "      <td>0.266667</td>\n",
              "      <td>842704</td>\n",
              "      <td>160.78125</td>\n",
              "      <td>673.43750</td>\n",
              "      <td>842704</td>\n",
              "      <td>0.266667</td>\n",
              "      <td>0.31831</td>\n",
              "    </tr>\n",
              "    <tr>\n",
              "      <th>727168</th>\n",
              "      <td>138</td>\n",
              "      <td>199</td>\n",
              "      <td>140.15625</td>\n",
              "      <td>671.09375</td>\n",
              "      <td>0.4125</td>\n",
              "      <td>0.166667</td>\n",
              "      <td>842719</td>\n",
              "      <td>140.15625</td>\n",
              "      <td>671.09375</td>\n",
              "      <td>842719</td>\n",
              "      <td>0.166667</td>\n",
              "      <td>0.31831</td>\n",
              "    </tr>\n",
              "  </tbody>\n",
              "</table>\n",
              "<p>727169 rows × 12 columns</p>\n",
              "</div>\n",
              "      <button class=\"colab-df-convert\" onclick=\"convertToInteractive('df-a27e5d78-ecc0-4320-80b3-57bb8c42b6c1')\"\n",
              "              title=\"Convert this dataframe to an interactive table.\"\n",
              "              style=\"display:none;\">\n",
              "        \n",
              "  <svg xmlns=\"http://www.w3.org/2000/svg\" height=\"24px\"viewBox=\"0 0 24 24\"\n",
              "       width=\"24px\">\n",
              "    <path d=\"M0 0h24v24H0V0z\" fill=\"none\"/>\n",
              "    <path d=\"M18.56 5.44l.94 2.06.94-2.06 2.06-.94-2.06-.94-.94-2.06-.94 2.06-2.06.94zm-11 1L8.5 8.5l.94-2.06 2.06-.94-2.06-.94L8.5 2.5l-.94 2.06-2.06.94zm10 10l.94 2.06.94-2.06 2.06-.94-2.06-.94-.94-2.06-.94 2.06-2.06.94z\"/><path d=\"M17.41 7.96l-1.37-1.37c-.4-.4-.92-.59-1.43-.59-.52 0-1.04.2-1.43.59L10.3 9.45l-7.72 7.72c-.78.78-.78 2.05 0 2.83L4 21.41c.39.39.9.59 1.41.59.51 0 1.02-.2 1.41-.59l7.78-7.78 2.81-2.81c.8-.78.8-2.07 0-2.86zM5.41 20L4 18.59l7.72-7.72 1.47 1.35L5.41 20z\"/>\n",
              "  </svg>\n",
              "      </button>\n",
              "      \n",
              "  <style>\n",
              "    .colab-df-container {\n",
              "      display:flex;\n",
              "      flex-wrap:wrap;\n",
              "      gap: 12px;\n",
              "    }\n",
              "\n",
              "    .colab-df-convert {\n",
              "      background-color: #E8F0FE;\n",
              "      border: none;\n",
              "      border-radius: 50%;\n",
              "      cursor: pointer;\n",
              "      display: none;\n",
              "      fill: #1967D2;\n",
              "      height: 32px;\n",
              "      padding: 0 0 0 0;\n",
              "      width: 32px;\n",
              "    }\n",
              "\n",
              "    .colab-df-convert:hover {\n",
              "      background-color: #E2EBFA;\n",
              "      box-shadow: 0px 1px 2px rgba(60, 64, 67, 0.3), 0px 1px 3px 1px rgba(60, 64, 67, 0.15);\n",
              "      fill: #174EA6;\n",
              "    }\n",
              "\n",
              "    [theme=dark] .colab-df-convert {\n",
              "      background-color: #3B4455;\n",
              "      fill: #D2E3FC;\n",
              "    }\n",
              "\n",
              "    [theme=dark] .colab-df-convert:hover {\n",
              "      background-color: #434B5C;\n",
              "      box-shadow: 0px 1px 3px 1px rgba(0, 0, 0, 0.15);\n",
              "      filter: drop-shadow(0px 1px 2px rgba(0, 0, 0, 0.3));\n",
              "      fill: #FFFFFF;\n",
              "    }\n",
              "  </style>\n",
              "\n",
              "      <script>\n",
              "        const buttonEl =\n",
              "          document.querySelector('#df-a27e5d78-ecc0-4320-80b3-57bb8c42b6c1 button.colab-df-convert');\n",
              "        buttonEl.style.display =\n",
              "          google.colab.kernel.accessAllowed ? 'block' : 'none';\n",
              "\n",
              "        async function convertToInteractive(key) {\n",
              "          const element = document.querySelector('#df-a27e5d78-ecc0-4320-80b3-57bb8c42b6c1');\n",
              "          const dataTable =\n",
              "            await google.colab.kernel.invokeFunction('convertToInteractive',\n",
              "                                                     [key], {});\n",
              "          if (!dataTable) return;\n",
              "\n",
              "          const docLinkHtml = 'Like what you see? Visit the ' +\n",
              "            '<a target=\"_blank\" href=https://colab.research.google.com/notebooks/data_table.ipynb>data table notebook</a>'\n",
              "            + ' to learn more about interactive tables.';\n",
              "          element.innerHTML = '';\n",
              "          dataTable['output_type'] = 'display_data';\n",
              "          await google.colab.output.renderOutput(dataTable, element);\n",
              "          const docLink = document.createElement('div');\n",
              "          docLink.innerHTML = docLinkHtml;\n",
              "          element.appendChild(docLink);\n",
              "        }\n",
              "      </script>\n",
              "    </div>\n",
              "  </div>\n",
              "  "
            ],
            "text/plain": [
              "        UserID  SwipeID          X  ...     time  touchMajor  touchMinor\n",
              "0            1        1  366.56250  ...  5294067    0.266667     0.31831\n",
              "1            1        1  374.53125  ...  5294098    0.233333     0.31831\n",
              "2            1        1  382.96875  ...  5294126    0.266667     0.31831\n",
              "3            1        1  385.78125  ...  5294141    0.233333     0.31831\n",
              "4            1        1  390.93750  ...  5294156    0.200000     0.31831\n",
              "...        ...      ...        ...  ...      ...         ...         ...\n",
              "727164     138      199  229.68750  ...   842659    0.233333     0.31831\n",
              "727165     138      199  206.71875  ...   842674    0.266667     0.31831\n",
              "727166     138      199  182.81250  ...   842689    0.200000     0.31831\n",
              "727167     138      199  160.78125  ...   842704    0.266667     0.31831\n",
              "727168     138      199  140.15625  ...   842719    0.166667     0.31831\n",
              "\n",
              "[727169 rows x 12 columns]"
            ]
          },
          "metadata": {},
          "execution_count": 38
        }
      ]
    },
    {
      "cell_type": "code",
      "metadata": {
        "id": "GCXCsVpaR24A",
        "colab": {
          "base_uri": "https://localhost:8080/"
        },
        "outputId": "b08e7d5d-b3f4-471a-b64d-be13269a0689"
      },
      "source": [
        "X = extract_touches(df)"
      ],
      "execution_count": null,
      "outputs": [
        {
          "output_type": "stream",
          "name": "stderr",
          "text": [
            "727169it [04:25, 2736.71it/s]\n"
          ]
        }
      ]
    },
    {
      "cell_type": "code",
      "source": [
        "X[1]"
      ],
      "metadata": {
        "id": "YCvF697EFhQv"
      },
      "execution_count": null,
      "outputs": []
    },
    {
      "cell_type": "code",
      "metadata": {
        "id": "aepJKAhRSIzk"
      },
      "source": [
        "X = np.asarray(X)"
      ],
      "execution_count": null,
      "outputs": []
    },
    {
      "cell_type": "code",
      "metadata": {
        "id": "aA9j9Dx6UtDk"
      },
      "source": [
        "X.shape"
      ],
      "execution_count": null,
      "outputs": []
    },
    {
      "cell_type": "code",
      "metadata": {
        "id": "rMCEvtePVn4w"
      },
      "source": [
        "pickling('serwadda_features.pkl', X)"
      ],
      "execution_count": null,
      "outputs": []
    },
    {
      "cell_type": "code",
      "metadata": {
        "id": "-2xjYiLfYtfL"
      },
      "source": [
        "f = unpickling('serwadda_features.pkl')"
      ],
      "execution_count": null,
      "outputs": []
    },
    {
      "cell_type": "code",
      "source": [
        "ans = 0\n",
        "for i in f:\n",
        "  ans += len(f[i])\n",
        "print (ans)"
      ],
      "metadata": {
        "colab": {
          "base_uri": "https://localhost:8080/"
        },
        "id": "_wh_vPrHFCAg",
        "outputId": "4f703ba1-c7ef-44fd-b2b8-6a387c80ccb6"
      },
      "execution_count": null,
      "outputs": [
        {
          "output_type": "stream",
          "name": "stdout",
          "text": [
            "37768\n"
          ]
        }
      ]
    },
    {
      "cell_type": "code",
      "source": [
        ""
      ],
      "metadata": {
        "id": "9uL64P3IFF5y"
      },
      "execution_count": null,
      "outputs": []
    },
    {
      "cell_type": "markdown",
      "metadata": {
        "id": "DAOjOq4cdyN8"
      },
      "source": [
        "# **HMOG**\n"
      ]
    },
    {
      "cell_type": "code",
      "metadata": {
        "id": "DBeCAc9b1OSP"
      },
      "source": [
        "PATH = '/content/drive/MyDrive/hmog/public_dataset/'"
      ],
      "execution_count": null,
      "outputs": []
    },
    {
      "cell_type": "code",
      "metadata": {
        "id": "RD3EjXPgeAFe"
      },
      "source": [
        "def pickup_user(u):\n",
        "  #assumed the user id exists and the directory is right\n",
        "  d = {}\n",
        "  for i in range(24):\n",
        "    d[i + 1] = {}\n",
        "    ss = PATH + u + '/' + u+'_' + 'session' + '_' + str(i+1)\n",
        "    try:\n",
        "      d[i+1]['touch'] = pd.read_csv(ss + '/' + 'TouchEvent.csv', header = None, usecols = list(range(11)), names=['time', 'etime', 'actid', 'ptrcnt', 'ptrid', 'actionid', 'Xvalue', 'Yvalue', 'pressure', 'touchMajor', 'orientation'])\n",
        "      d[i+1]['touch'].insert(2, 'touchMinor', [1/np.pi]*len(d[i + 1]['touch']['touchMajor']), True)\n",
        "      d[i+1]['touch'] = d[i+1]['touch'].drop(columns = ['etime', 'actid', 'pressure'])\n",
        "    except:\n",
        "      pass\n",
        "  return d"
      ],
      "execution_count": null,
      "outputs": []
    },
    {
      "cell_type": "code",
      "metadata": {
        "id": "IhotmSdvwZch"
      },
      "source": [
        "def extract_touches(df):\n",
        "  swipes = []\n",
        "  swipe = []\n",
        "  for index, row in df.iterrows():\n",
        "    if(row['orientation'] != 0):\n",
        "      swipe = []\n",
        "      continue\n",
        "    if(row['ptrcnt'] != 1):\n",
        "      swipe = []\n",
        "      continue\n",
        "    if(row['actionid'] in [0, 5]):\n",
        "      swipe.append(row)\n",
        "      continue\n",
        "    if(row['actionid'] == 2):\n",
        "      if(len(swipe) > 0 and row['time'] == swipe[-1]['time']):\n",
        "        continue\n",
        "      else:\n",
        "        swipe.append(row)\n",
        "    if(row['actionid'] in [1, 6]):\n",
        "      if len(swipe) == 0:\n",
        "        continue\n",
        "      if(row['time'] != swipe[-1]['time']):\n",
        "        swipe.append(row)\n",
        "      if(len(swipe) <= 5):\n",
        "        swipe = []\n",
        "        continue\n",
        "      try:\n",
        "        fset = extract_features(swipe)\n",
        "        swipes.append(fset)\n",
        "      except:\n",
        "        pass\n",
        "      swipe = []\n",
        "  return swipes"
      ],
      "execution_count": null,
      "outputs": []
    },
    {
      "cell_type": "code",
      "metadata": {
        "id": "hBdyY8vbwj2-"
      },
      "source": [
        "def get_features(u):\n",
        "  #input: user id\n",
        "  u = pickup_user(u)\n",
        "  # u = unpickling('saved_objects/' + u + '_data.pkl')\n",
        "  swipes = []\n",
        "  for ss in range(24):\n",
        "    try:\n",
        "      sw = extract_touches(u[ss+1]['touch'])\n",
        "      swipes.extend(sw)\n",
        "    except:\n",
        "      continue\n",
        "  return swipes"
      ],
      "execution_count": null,
      "outputs": []
    },
    {
      "cell_type": "code",
      "metadata": {
        "id": "G_O53OqrwzGu"
      },
      "source": [
        "# # CREATING USER ID AND LIST\n",
        "# from os import listdir\n",
        "\n",
        "# PATH = '/content/drive/MyDrive/hmog/public_dataset/'\n",
        "# ll = listdir(PATH)\n",
        "# fll = []\n",
        "# for i in ll:\n",
        "#   if '.zip' in i or '.pdf' in i or 'saved' in i or '__' in i:\n",
        "#     continue\n",
        "#   fll.append(i)\n",
        "# pickling(PATH + 'saved_objects/users.pkl', fll)"
      ],
      "execution_count": null,
      "outputs": []
    },
    {
      "cell_type": "code",
      "metadata": {
        "id": "IT-XMKD41FCv"
      },
      "source": [
        "# LOADING USERS\n",
        "users = unpickling(PATH + 'saved_objects/users.pkl')"
      ],
      "execution_count": null,
      "outputs": []
    },
    {
      "cell_type": "code",
      "metadata": {
        "colab": {
          "base_uri": "https://localhost:8080/"
        },
        "id": "I_se81ec2NOR",
        "outputId": "64755bec-c23b-48a4-e5c8-8c58694c5dc5"
      },
      "source": [
        "d = {}\n",
        "for i in tqdm(users):\n",
        "  d[i] = get_features(i)"
      ],
      "execution_count": null,
      "outputs": [
        {
          "output_type": "stream",
          "name": "stderr",
          "text": [
            "100%|██████████| 100/100 [53:50<00:00, 32.30s/it]\n"
          ]
        }
      ]
    },
    {
      "cell_type": "code",
      "metadata": {
        "id": "Gix1yuLcCwkZ"
      },
      "source": [
        "pickling('hmog_features.pkl', d)"
      ],
      "execution_count": null,
      "outputs": []
    },
    {
      "cell_type": "code",
      "metadata": {
        "id": "Apn_ygfOQcUV"
      },
      "source": [
        "a = pickup_user(users[1])"
      ],
      "execution_count": null,
      "outputs": []
    },
    {
      "cell_type": "code",
      "metadata": {
        "colab": {
          "base_uri": "https://localhost:8080/"
        },
        "id": "Uzem_HUsRNYs",
        "outputId": "930fa8f4-bb67-4e90-b4ca-cb8b4515c509"
      },
      "source": [
        "for i in a:\n",
        "  if "
      ],
      "execution_count": null,
      "outputs": [
        {
          "data": {
            "text/plain": [
              "{1: {'touch':                time  touchMinor  ptrcnt  ...  Yvalue  touchMajor  orientation\n",
              "  0     1396999272449     0.31831       1  ...   111.0    0.025490            1\n",
              "  1     1396999272470     0.31831       1  ...   111.0    0.025490            1\n",
              "  2     1396999272502     0.31831       1  ...   111.0    0.025490            1\n",
              "  3     1396999272505     0.31831       1  ...   111.0    0.025490            1\n",
              "  4     1396999278178     0.31831       1  ...    85.0    0.027451            1\n",
              "  ...             ...         ...     ...  ...     ...         ...          ...\n",
              "  5497  1396999988955     0.31831       1  ...   103.0    0.033333            1\n",
              "  5498  1396999988959     0.31831       1  ...   103.0    0.033333            1\n",
              "  5499  1396999990138     0.31831       1  ...   457.0    0.023529            1\n",
              "  5500  1396999990142     0.31831       1  ...   457.0    0.025490            1\n",
              "  5501  1396999990160     0.31831       1  ...   457.0    0.025490            1\n",
              "  \n",
              "  [5502 rows x 9 columns]},\n",
              " 2: {'touch':                time  touchMinor  ptrcnt  ...      Yvalue  touchMajor  orientation\n",
              "  0     1397000105102     0.31831       1  ...  1175.00000    0.025490            0\n",
              "  1     1397000105130     0.31831       1  ...  1175.00000    0.025490            0\n",
              "  2     1397000105165     0.31831       1  ...  1175.00000    0.025490            0\n",
              "  3     1397000105184     0.31831       1  ...  1175.00000    0.023529            0\n",
              "  4     1397000105198     0.31831       1  ...  1175.00000    0.029412            0\n",
              "  ...             ...         ...     ...  ...         ...         ...          ...\n",
              "  1951  1397000722306     0.31831       1  ...   977.29070    0.025490            0\n",
              "  1952  1397000722322     0.31831       1  ...   972.59393    0.029412            0\n",
              "  1953  1397000722340     0.31831       1  ...   969.63586    0.031373            0\n",
              "  1954  1397000722356     0.31831       1  ...   967.73560    0.031373            0\n",
              "  1955  1397000722360     0.31831       1  ...   967.73560    0.031373            0\n",
              "  \n",
              "  [1956 rows x 9 columns]},\n",
              " 3: {'touch':               time  touchMinor  ptrcnt  ...     Yvalue  touchMajor  orientation\n",
              "  0    1397000923722     0.31831       1  ...  1528.0000    0.021569            0\n",
              "  1    1397000923746     0.31831       1  ...  1528.0000    0.025490            0\n",
              "  2    1397000923764     0.31831       1  ...  1524.3207    0.025490            0\n",
              "  3    1397000923778     0.31831       1  ...  1518.9697    0.025490            0\n",
              "  4    1397000923795     0.31831       1  ...  1511.4962    0.027451            0\n",
              "  ..             ...         ...     ...  ...        ...         ...          ...\n",
              "  836  1397001228677     0.31831       1  ...  1189.6128    0.027451            0\n",
              "  837  1397001228694     0.31831       1  ...  1184.9731    0.025490            0\n",
              "  838  1397001228710     0.31831       1  ...  1181.2256    0.025490            0\n",
              "  839  1397001228727     0.31831       1  ...  1179.0000    0.029412            0\n",
              "  840  1397001228730     0.31831       1  ...  1179.0000    0.029412            0\n",
              "  \n",
              "  [841 rows x 9 columns]},\n",
              " 4: {'touch':                 time  touchMinor  ptrcnt  ...     Yvalue  touchMajor  orientation\n",
              "  0      1397001297937     0.31831       1  ...  1039.0000    0.027451            0\n",
              "  1      1397001297960     0.31831       1  ...  1039.0000    0.027451            0\n",
              "  2      1397001297975     0.31831       1  ...  1039.0000    0.027451            0\n",
              "  3      1397001297990     0.31831       1  ...  1039.0000    0.029412            0\n",
              "  4      1397001298006     0.31831       1  ...  1042.0177    0.029412            0\n",
              "  ...              ...         ...     ...  ...        ...         ...          ...\n",
              "  11240  1397001771150     0.31831       1  ...   924.0000    0.027451            0\n",
              "  11241  1397001771167     0.31831       1  ...   924.0000    0.023529            0\n",
              "  11242  1397001771181     0.31831       1  ...   923.1167    0.023529            0\n",
              "  11243  1397001771199     0.31831       1  ...   922.0000    0.027451            0\n",
              "  11244  1397001771201     0.31831       1  ...   922.0000    0.027451            0\n",
              "  \n",
              "  [11245 rows x 9 columns]},\n",
              " 5: {'touch':                time  touchMinor  ptrcnt  ...     Yvalue  touchMajor  orientation\n",
              "  0     1397084439014     0.31831       1  ...  1081.0000    0.025490            0\n",
              "  1     1397084439037     0.31831       1  ...  1081.0000    0.025490            0\n",
              "  2     1397084439056     0.31831       1  ...  1075.0739    0.027451            0\n",
              "  3     1397084439071     0.31831       1  ...  1048.3969    0.027451            0\n",
              "  4     1397084439090     0.31831       1  ...  1020.0880    0.027451            0\n",
              "  ...             ...         ...     ...  ...        ...         ...          ...\n",
              "  7981  1397084774885     0.31831       1  ...   650.0000    0.023529            0\n",
              "  7982  1397084774936     0.31831       1  ...   650.0000    0.023529            0\n",
              "  7983  1397084774951     0.31831       1  ...   650.0000    0.023529            0\n",
              "  7984  1397084774969     0.31831       1  ...   650.0000    0.027451            0\n",
              "  7985  1397084774971     0.31831       1  ...   650.0000    0.027451            0\n",
              "  \n",
              "  [7986 rows x 9 columns]},\n",
              " 6: {'touch':                    time  touchMinor  ptrcnt  ...  Yvalue  touchMajor  orientation\n",
              "  0         1397084822768     0.31831       1  ...   272.0    0.027451            3\n",
              "  1         1397084822791     0.31831       1  ...   272.0    0.025490            3\n",
              "  2         1397084822824     0.31831       1  ...   272.0    0.019608            3\n",
              "  3         1397084822836     0.31831       1  ...   272.0    0.027451            3\n",
              "  4         1397084822838     0.31831       1  ...   272.0    0.027451            3\n",
              "  ...                 ...         ...     ...  ...     ...         ...          ...\n",
              "  5216      1397085442746     0.31831       1  ...   494.0    0.023529            3\n",
              "  5217      1397085442782     0.31831       1  ...   494.0    0.023529            3\n",
              "  5218      1397085442800     0.31831       1  ...   494.0    0.023529            3\n",
              "  5219      1397085442802     0.31831       1  ...   494.0    0.023529            3\n",
              "  5220  13971397085291965     0.31831       1  ...    88.0    0.025490            3\n",
              "  \n",
              "  [5221 rows x 9 columns]},\n",
              " 7: {'touch':               time  touchMinor  ptrcnt  ...     Yvalue  touchMajor  orientation\n",
              "  0    1397085582993     0.31831       1  ...  1480.0000    0.019608            0\n",
              "  1    1397085583034     0.31831       1  ...  1480.0000    0.019608            0\n",
              "  2    1397085583055     0.31831       1  ...  1476.9816    0.021569            0\n",
              "  3    1397085583069     0.31831       1  ...  1470.2572    0.021569            0\n",
              "  4    1397085583084     0.31831       1  ...  1461.4530    0.023529            0\n",
              "  ..             ...         ...     ...  ...        ...         ...          ...\n",
              "  452  1397086043734     0.31831       1  ...  1042.4564    0.025490            0\n",
              "  453  1397086043749     0.31831       1  ...  1035.9895    0.025490            0\n",
              "  454  1397086043766     0.31831       1  ...  1032.4036    0.027451            0\n",
              "  455  1397086043773     0.31831       1  ...  1032.0000    0.031373            0\n",
              "  456  1397086043775     0.31831       1  ...  1032.0000    0.031373            0\n",
              "  \n",
              "  [457 rows x 9 columns]},\n",
              " 8: {'touch':                time  touchMinor  ptrcnt  ...  Yvalue  touchMajor  orientation\n",
              "  0     1397086092915     0.31831       1  ...   157.0    0.023529            3\n",
              "  1     1397086092935     0.31831       1  ...   157.0    0.023529            3\n",
              "  2     1397086092951     0.31831       1  ...   157.0    0.023529            3\n",
              "  3     1397086092969     0.31831       1  ...   157.0    0.023529            3\n",
              "  4     1397086092984     0.31831       1  ...   157.0    0.023529            3\n",
              "  ...             ...         ...     ...  ...     ...         ...          ...\n",
              "  4718  1397086737333     0.31831       1  ...   486.0    0.023529            3\n",
              "  4719  1397086737375     0.31831       1  ...   486.0    0.023529            3\n",
              "  4720  1397086737413     0.31831       1  ...   486.0    0.021569            3\n",
              "  4721  1397086737502     0.31831       1  ...   486.0    0.023529            3\n",
              "  4722  1397086737503     0.31831       1  ...   486.0    0.023529            3\n",
              "  \n",
              "  [4723 rows x 9 columns]},\n",
              " 9: {'touch':                time  touchMinor  ptrcnt  ...     Yvalue  touchMajor  orientation\n",
              "  0     1397257138601     0.31831       1  ...  1465.0000    0.021569            0\n",
              "  1     1397257138633     0.31831       1  ...  1465.0000    0.023529            0\n",
              "  2     1397257138647     0.31831       1  ...  1461.9993    0.023529            0\n",
              "  3     1397257138665     0.31831       1  ...  1457.3911    0.025490            0\n",
              "  4     1397257138682     0.31831       1  ...  1452.7617    0.027451            0\n",
              "  ...             ...         ...     ...  ...        ...         ...          ...\n",
              "  1198  1397257542483     0.31831       1  ...  1181.9135    0.025490            0\n",
              "  1199  1397257542500     0.31831       1  ...  1177.5594    0.025490            0\n",
              "  1200  1397257542517     0.31831       1  ...  1168.8323    0.025490            0\n",
              "  1201  1397257542539     0.31831       1  ...  1147.0000    0.027451            0\n",
              "  1202  1397257542541     0.31831       1  ...  1147.0000    0.027451            0\n",
              "  \n",
              "  [1203 rows x 9 columns]},\n",
              " 10: {'touch':                time  touchMinor  ptrcnt  ...    Yvalue  touchMajor  orientation\n",
              "  0     1397257914881     0.31831       1  ...  879.0000    0.025490            0\n",
              "  1     1397257914907     0.31831       1  ...  879.0000    0.027451            0\n",
              "  2     1397257914910     0.31831       2  ...  879.0000    0.027451            0\n",
              "  3     1397257914910     0.31831       2  ...  638.0000    0.019608            0\n",
              "  4     1397257914932     0.31831       2  ...  884.2157    0.027451            0\n",
              "  ...             ...         ...     ...  ...       ...         ...          ...\n",
              "  5992  1397258092928     0.31831       1  ...  579.0000    0.025490            0\n",
              "  5993  1397258092947     0.31831       1  ...  579.0000    0.025490            0\n",
              "  5994  1397258092989     0.31831       1  ...  579.0000    0.025490            0\n",
              "  5995  1397258092993     0.31831       1  ...  579.0000    0.027451            0\n",
              "  5996  1397258092995     0.31831       1  ...  579.0000    0.027451            0\n",
              "  \n",
              "  [5997 rows x 9 columns]},\n",
              " 11: {'touch':                time  touchMinor  ptrcnt  ...  Yvalue  touchMajor  orientation\n",
              "  0     1397258127911     0.31831       1  ...   122.0    0.025490            1\n",
              "  1     1397258127930     0.31831       1  ...   122.0    0.027451            1\n",
              "  2     1397258127945     0.31831       1  ...   122.0    0.029412            1\n",
              "  3     1397258127961     0.31831       1  ...   122.0    0.029412            1\n",
              "  4     1397258127979     0.31831       1  ...   122.0    0.027451            1\n",
              "  ...             ...         ...     ...  ...     ...         ...          ...\n",
              "  5624  1397258710845     0.31831       1  ...    89.0    0.027451            1\n",
              "  5625  1397258712363     0.31831       1  ...   101.0    0.023529            1\n",
              "  5626  1397258712398     0.31831       1  ...   101.0    0.023529            1\n",
              "  5627  1397258712415     0.31831       1  ...   101.0    0.029412            1\n",
              "  5628  1397258712418     0.31831       1  ...   101.0    0.029412            1\n",
              "  \n",
              "  [5629 rows x 9 columns]},\n",
              " 12: {'touch':                 time  touchMinor  ptrcnt  ...     Yvalue  touchMajor  orientation\n",
              "  0      1397258754741     0.31831       1  ...  1054.0000    0.019608            0\n",
              "  1      1397258754764     0.31831       1  ...  1054.0000    0.021569            0\n",
              "  2      1397258754780     0.31831       1  ...  1054.0000    0.021569            0\n",
              "  3      1397258754796     0.31831       1  ...  1054.0000    0.023529            0\n",
              "  4      1397258754813     0.31831       1  ...  1052.9287    0.023529            0\n",
              "  ...              ...         ...     ...  ...        ...         ...          ...\n",
              "  12452  1397259285618     0.31831       1  ...  1258.0000    0.025490            0\n",
              "  12453  1397259285636     0.31831       1  ...  1258.0000    0.023529            0\n",
              "  12454  1397259285652     0.31831       1  ...  1258.0000    0.023529            0\n",
              "  12455  1397259285668     0.31831       1  ...  1258.0000    0.027451            0\n",
              "  12456  1397259285672     0.31831       1  ...  1258.0000    0.027451            0\n",
              "  \n",
              "  [12457 rows x 9 columns]},\n",
              " 13: {'touch':                time  touchMinor  ptrcnt  ...     Yvalue  touchMajor  orientation\n",
              "  0     1397259340466     0.31831       1  ...  958.00000    0.023529            0\n",
              "  1     1397259340488     0.31831       1  ...  960.18884    0.023529            0\n",
              "  2     1397259340512     0.31831       1  ...  965.61780    0.025490            0\n",
              "  3     1397259340523     0.31831       1  ...  975.43726    0.025490            0\n",
              "  4     1397259340540     0.31831       1  ...  981.65830    0.025490            0\n",
              "  ...             ...         ...     ...  ...        ...         ...          ...\n",
              "  5218  1397259518209     0.31831       1  ...  803.00000    0.025490            0\n",
              "  5219  1397259518227     0.31831       1  ...  803.00000    0.025490            0\n",
              "  5220  1397259518243     0.31831       1  ...  801.81720    0.025490            0\n",
              "  5221  1397259518256     0.31831       1  ...  802.00000    0.027451            0\n",
              "  5222  1397259518258     0.31831       1  ...  802.00000    0.027451            0\n",
              "  \n",
              "  [5223 rows x 9 columns]},\n",
              " 14: {'touch':               time  touchMinor  ptrcnt  ...     Yvalue  touchMajor  orientation\n",
              "  0    1397259589831     0.31831       1  ...  1352.0000    0.023529            0\n",
              "  1    1397259589854     0.31831       1  ...  1352.0000    0.021569            0\n",
              "  2    1397259589868     0.31831       1  ...  1352.0000    0.021569            0\n",
              "  3    1397259589900     0.31831       1  ...  1344.0887    0.023529            0\n",
              "  4    1397259589917     0.31831       1  ...  1334.6224    0.023529            0\n",
              "  ..             ...         ...     ...  ...        ...         ...          ...\n",
              "  313  1397259909683     0.31831       1  ...  1228.0776    0.023529            0\n",
              "  314  1397259909695     0.31831       1  ...  1189.0440    0.023529            0\n",
              "  315  1397259909711     0.31831       1  ...  1141.8368    0.023529            0\n",
              "  316  1397259909726     0.31831       1  ...  1128.0000    0.025490            0\n",
              "  317  1397259909728     0.31831       1  ...  1128.0000    0.025490            0\n",
              "  \n",
              "  [318 rows x 9 columns]},\n",
              " 15: {'touch':                    time  touchMinor  ptrcnt  ...    Yvalue  touchMajor  orientation\n",
              "  0         1397343938324     0.31831       1  ...  207.0000    0.023529            1\n",
              "  1         1397343938348     0.31831       1  ...  207.0000    0.023529            1\n",
              "  2         1397343938366     0.31831       1  ...  207.0000    0.023529            1\n",
              "  3         1397343938382     0.31831       1  ...  201.9693    0.023529            1\n",
              "  4         1397343938400     0.31831       1  ...  196.0000    0.027451            1\n",
              "  ...                 ...         ...     ...  ...       ...         ...          ...\n",
              "  5065      1397344493845     0.31831       1  ...  488.0000    0.021569            1\n",
              "  5066      1397344493852     0.31831       1  ...  488.0000    0.023529            1\n",
              "  5067      1397344493853     0.31831       1  ...  488.0000    0.023529            1\n",
              "  5068    131397344205996     0.31831       1  ...  362.0000    0.023529            1\n",
              "  5069  13971397344359874     0.31831       1  ...  510.0000    0.023529            1\n",
              "  \n",
              "  [5070 rows x 9 columns]},\n",
              " 16: {'touch':              time  touchMinor  ptrcnt  ...      Yvalue  touchMajor  orientation\n",
              "  0   1397344532890     0.31831       1  ...  179.000000    0.025490            1\n",
              "  1   1397344532905     0.31831       1  ...  179.000000    0.027451            1\n",
              "  2   1397344532922     0.31831       1  ...  179.000000    0.027451            1\n",
              "  3   1397344532939     0.31831       1  ...  179.000000    0.027451            1\n",
              "  4   1397344532955     0.31831       1  ...  183.536220    0.027451            1\n",
              "  5   1397344532962     0.31831       1  ...  185.000000    0.027451            1\n",
              "  6   1397344532963     0.31831       1  ...  185.000000    0.027451            1\n",
              "  7   1397344538225     0.31831       1  ...  106.000000    0.027451            1\n",
              "  8   1397344538246     0.31831       1  ...  106.000000    0.029412            1\n",
              "  9   1397344538263     0.31831       1  ...  106.000000    0.029412            1\n",
              "  10  1397344538274     0.31831       1  ...  106.000000    0.029412            1\n",
              "  11  1397344538291     0.31831       1  ...  106.000000    0.027451            1\n",
              "  12  1397344538309     0.31831       1  ...  107.300260    0.029412            1\n",
              "  13  1397344538311     0.31831       1  ...  107.300260    0.029412            1\n",
              "  14  1397344765710     0.31831       1  ...  140.000000    0.023529            1\n",
              "  15  1397344765753     0.31831       1  ...  140.000000    0.023529            1\n",
              "  16  1397344765764     0.31831       1  ...  140.000000    0.023529            1\n",
              "  17  1397344765782     0.31831       1  ...  140.000000    0.027451            1\n",
              "  18  1397344765798     0.31831       1  ...  140.000000    0.027451            1\n",
              "  19  1397344765800     0.31831       1  ...  140.000000    0.027451            1\n",
              "  20  1397345000364     0.31831       1  ...   50.000000    0.025490            1\n",
              "  21  1397345000387     0.31831       1  ...   50.000000    0.025490            1\n",
              "  22  1397345000420     0.31831       1  ...   50.000000    0.025490            1\n",
              "  23  1397345000437     0.31831       1  ...   50.000000    0.025490            1\n",
              "  24  1397345000472     0.31831       1  ...   50.000000    0.025490            1\n",
              "  25  1397345000489     0.31831       1  ...   50.000000    0.025490            1\n",
              "  26  1397345000503     0.31831       1  ...   50.000000    0.027451            1\n",
              "  27  1397345000518     0.31831       1  ...   50.000000    0.029412            1\n",
              "  28  1397345000520     0.31831       1  ...   50.000000    0.029412            1\n",
              "  29  1397345003783     0.31831       1  ...   33.000000    0.025490            1\n",
              "  30  1397345003795     0.31831       1  ...   33.000000    0.029412            1\n",
              "  31  1397345003813     0.31831       1  ...   33.000000    0.029412            1\n",
              "  32  1397345003826     0.31831       1  ...   33.000000    0.029412            1\n",
              "  33  1397345003859     0.31831       1  ...   33.000000    0.029412            1\n",
              "  34  1397345003881     0.31831       1  ...   34.291595    0.025490            1\n",
              "  35  1397345003901     0.31831       1  ...   41.000000    0.027451            1\n",
              "  36  1397345003903     0.31831       1  ...   41.000000    0.027451            1\n",
              "  37  1397345042420     0.31831       1  ...  223.000000    0.021569            1\n",
              "  38  1397345042441     0.31831       1  ...  223.000000    0.023529            1\n",
              "  39  1397345042458     0.31831       1  ...  223.000000    0.023529            1\n",
              "  40  1397345042494     0.31831       1  ...  223.000000    0.023529            1\n",
              "  41  1397345042499     0.31831       1  ...  223.000000    0.027451            1\n",
              "  42  1397345042502     0.31831       1  ...  223.000000    0.027451            1\n",
              "  \n",
              "  [43 rows x 9 columns]},\n",
              " 17: {'touch':                 time  touchMinor  ptrcnt  ...      Yvalue  touchMajor  orientation\n",
              "  0      1397345229844     0.31831       1  ...  1140.00000    0.025490            0\n",
              "  1      1397345229871     0.31831       1  ...  1140.00000    0.025490            0\n",
              "  2      1397345229887     0.31831       1  ...  1140.00000    0.029412            0\n",
              "  3      1397345229904     0.31831       1  ...  1140.00000    0.029412            0\n",
              "  4      1397345229921     0.31831       1  ...  1140.00000    0.029412            0\n",
              "  ...              ...         ...     ...  ...         ...         ...          ...\n",
              "  11627  1397345708202     0.31831       1  ...   932.79016    0.023529            0\n",
              "  11628  1397345708218     0.31831       1  ...   882.05810    0.025490            0\n",
              "  11629  1397345708235     0.31831       1  ...   835.03735    0.025490            0\n",
              "  11630  1397345708249     0.31831       1  ...   820.00000    0.025490            0\n",
              "  11631  1397345708251     0.31831       1  ...   820.00000    0.025490            0\n",
              "  \n",
              "  [11632 rows x 9 columns]},\n",
              " 18: {'touch':                            time  touchMinor  ...  touchMajor  orientation\n",
              "  0                 1397345734720     0.31831  ...    0.027451            1\n",
              "  1                 1397345734746     0.31831  ...    0.027451            1\n",
              "  2                 1397345734780     0.31831  ...    0.025490            1\n",
              "  3                 1397345734784     0.31831  ...    0.023529            1\n",
              "  4                 1397345734786     0.31831  ...    0.023529            1\n",
              "  ...                         ...         ...  ...         ...          ...\n",
              "  6020              1397346316465     0.31831  ...    0.025490            1\n",
              "  6021              1397346316495     0.31831  ...    0.025490            1\n",
              "  6022              1397346316528     0.31831  ...    0.027451            1\n",
              "  6023              1397346316529     0.31831  ...    0.027451            1\n",
              "  6024  1397345906601397345930656     0.31831  ...    0.021569            1\n",
              "  \n",
              "  [6025 rows x 9 columns]},\n",
              " 19: {'touch':                time  touchMinor  ptrcnt  ...     Yvalue  touchMajor  orientation\n",
              "  0     1397346350921     0.31831       1  ...  1101.0000    0.023529            0\n",
              "  1     1397346350942     0.31831       1  ...  1097.0217    0.023529            0\n",
              "  2     1397346350959     0.31831       1  ...  1091.0786    0.025490            0\n",
              "  3     1397346350977     0.31831       1  ...  1082.3868    0.027451            0\n",
              "  4     1397346350993     0.31831       1  ...  1065.1194    0.027451            0\n",
              "  ...             ...         ...     ...  ...        ...         ...          ...\n",
              "  9589  1397346818934     0.31831       1  ...  1137.4437    0.027451            0\n",
              "  9590  1397346818951     0.31831       1  ...  1158.2634    0.027451            0\n",
              "  9591  1397346818968     0.31831       1  ...  1183.3751    0.025490            0\n",
              "  9592  1397346818982     0.31831       1  ...  1195.0000    0.027451            0\n",
              "  9593  1397346818986     0.31831       1  ...  1195.0000    0.027451            0\n",
              "  \n",
              "  [9594 rows x 9 columns]},\n",
              " 20: {'touch':               time  touchMinor  ptrcnt  ...     Yvalue  touchMajor  orientation\n",
              "  0    1397346927556     0.31831       1  ...  1347.0000    0.021569            0\n",
              "  1    1397346927576     0.31831       1  ...  1347.0000    0.023529            0\n",
              "  2    1397346927593     0.31831       1  ...  1335.7788    0.023529            0\n",
              "  3    1397346927609     0.31831       1  ...  1321.7499    0.023529            0\n",
              "  4    1397346927625     0.31831       1  ...  1306.6884    0.025490            0\n",
              "  ..             ...         ...     ...  ...        ...         ...          ...\n",
              "  527  1397347294193     0.31831       1  ...  1312.2974    0.025490            0\n",
              "  528  1397347294210     0.31831       1  ...  1319.8300    0.025490            0\n",
              "  529  1397347294226     0.31831       1  ...  1328.5558    0.023529            0\n",
              "  530  1397347294232     0.31831       1  ...  1329.0000    0.031373            0\n",
              "  531  1397347294234     0.31831       1  ...  1329.0000    0.031373            0\n",
              "  \n",
              "  [532 rows x 9 columns]},\n",
              " 21: {'touch':                time  touchMinor  ptrcnt  ...     Yvalue  touchMajor  orientation\n",
              "  0     1397689005380     0.31831       1  ...  645.00000    0.021569            3\n",
              "  1     1397689005398     0.31831       1  ...  645.00000    0.023529            3\n",
              "  2     1397689005431     0.31831       1  ...  645.00000    0.023529            3\n",
              "  3     1397689005482     0.31831       1  ...  645.00000    0.025490            3\n",
              "  4     1397689005487     0.31831       1  ...  645.00000    0.025490            3\n",
              "  ...             ...         ...     ...  ...        ...         ...          ...\n",
              "  1776  1397689471716     0.31831       1  ...  767.17053    0.025490            0\n",
              "  1777  1397689471729     0.31831       1  ...  748.48460    0.023529            0\n",
              "  1778  1397689471746     0.31831       1  ...  726.93050    0.023529            0\n",
              "  1779  1397689471758     0.31831       1  ...  721.00000    0.025490            0\n",
              "  1780  1397689471762     0.31831       1  ...  721.00000    0.025490            0\n",
              "  \n",
              "  [1781 rows x 9 columns]},\n",
              " 22: {'touch':                 time  touchMinor  ptrcnt  ...      Yvalue  touchMajor  orientation\n",
              "  0      1397689561057     0.31831       1  ...  1002.00000    0.021569            0\n",
              "  1      1397689561087     0.31831       1  ...  1003.05066    0.023529            0\n",
              "  2      1397689561104     0.31831       1  ...  1005.16810    0.021569            0\n",
              "  3      1397689561122     0.31831       1  ...  1009.36475    0.021569            0\n",
              "  4      1397689561137     0.31831       1  ...  1012.31555    0.023529            0\n",
              "  ...              ...         ...     ...  ...         ...         ...          ...\n",
              "  10479  1397690127280     0.31831       1  ...   826.63740    0.025490            0\n",
              "  10480  1397690127298     0.31831       1  ...   768.48550    0.023529            0\n",
              "  10481  1397690127313     0.31831       1  ...   717.15546    0.025490            0\n",
              "  10482  1397690127325     0.31831       1  ...   701.00000    0.031373            0\n",
              "  10483  1397690127327     0.31831       1  ...   701.00000    0.031373            0\n",
              "  \n",
              "  [10484 rows x 9 columns]},\n",
              " 23: {'touch':                         time  touchMinor  ...  touchMajor  orientation\n",
              "  0              1397690176650     0.31831  ...    0.023529            0\n",
              "  1              1397690176681     0.31831  ...    0.023529            0\n",
              "  2              1397690176713     0.31831  ...    0.025490            0\n",
              "  3              1397690176746     0.31831  ...    0.025490            0\n",
              "  4              1397690176758     0.31831  ...    0.027451            0\n",
              "  ...                      ...         ...  ...         ...          ...\n",
              "  5440           1397690747794     0.31831  ...    0.023529            1\n",
              "  5441           1397690747814     0.31831  ...    0.023529            1\n",
              "  5442           1397690747872     0.31831  ...    0.025490            1\n",
              "  5443           1397690747873     0.31831  ...    0.025490            1\n",
              "  5444  1397690491397690505187     0.31831  ...    0.025490            1\n",
              "  \n",
              "  [5445 rows x 9 columns]},\n",
              " 24: {'touch':               time  touchMinor  ptrcnt  ...     Yvalue  touchMajor  orientation\n",
              "  0    1397690888129     0.31831       1  ...  1352.0000    0.023529            0\n",
              "  1    1397690888151     0.31831       1  ...  1346.2854    0.025490            0\n",
              "  2    1397690888165     0.31831       1  ...  1329.6124    0.027451            0\n",
              "  3    1397690888182     0.31831       1  ...  1312.7009    0.027451            0\n",
              "  4    1397690888198     0.31831       1  ...  1289.2875    0.027451            0\n",
              "  ..             ...         ...     ...  ...        ...         ...          ...\n",
              "  528  1397691202176     0.31831       1  ...  1110.1837    0.023529            0\n",
              "  529  1397691202190     0.31831       1  ...  1104.1049    0.027451            0\n",
              "  530  1397691202206     0.31831       1  ...  1097.3049    0.027451            0\n",
              "  531  1397691202211     0.31831       1  ...  1097.0000    0.031373            0\n",
              "  532  1397691202219     0.31831       1  ...  1097.0000    0.031373            0\n",
              "  \n",
              "  [533 rows x 9 columns]}}"
            ]
          },
          "execution_count": 47,
          "metadata": {},
          "output_type": "execute_result"
        }
      ]
    },
    {
      "cell_type": "code",
      "source": [
        "f = unpickling('hmog_features.pkl')"
      ],
      "metadata": {
        "id": "wRslPVto_79O"
      },
      "execution_count": null,
      "outputs": []
    },
    {
      "cell_type": "code",
      "source": [
        "ans = 0\n",
        "for i in f:\n",
        "  ans += len(f[i])\n",
        "print (ans)"
      ],
      "metadata": {
        "colab": {
          "base_uri": "https://localhost:8080/"
        },
        "id": "D5Ohp5gjANIf",
        "outputId": "1c989ca8-4323-465e-c8aa-f812a851b979"
      },
      "execution_count": null,
      "outputs": [
        {
          "output_type": "stream",
          "name": "stdout",
          "text": [
            "227464\n"
          ]
        }
      ]
    },
    {
      "cell_type": "markdown",
      "metadata": {
        "id": "W_7kbmeVeAv8"
      },
      "source": [
        "# **UMDAA-02**"
      ]
    },
    {
      "cell_type": "code",
      "metadata": {
        "colab": {
          "base_uri": "https://localhost:8080/"
        },
        "id": "LfWtZesi-s3T",
        "outputId": "b43637cd-a5ca-422a-9ae9-7ad5a6af78d1"
      },
      "source": [
        "cd /content/drive/MyDrive/BBMAS_Touchstrokes/umdaa02-touch/"
      ],
      "execution_count": null,
      "outputs": [
        {
          "name": "stdout",
          "output_type": "stream",
          "text": [
            "/content/drive/.shortcut-targets-by-id/0B7efnfTm8DxkeUlETFRkTFlJSkU/umdaa02-touch\n"
          ]
        }
      ]
    },
    {
      "cell_type": "code",
      "metadata": {
        "colab": {
          "base_uri": "https://localhost:8080/"
        },
        "id": "TM-lvz-x_Fg6",
        "outputId": "a8a0ca13-e624-4057-b499-1f88e0bfcc5a"
      },
      "source": [
        "!ls"
      ],
      "execution_count": null,
      "outputs": [
        {
          "name": "stdout",
          "output_type": "stream",
          "text": [
            "readme.gdoc\t    TestEventDictionary_70.csv\tTrainEventDictionary_70.csv\n",
            "readme_touchevents  TestEventDictionary_70.pkl\tTrainEventDictionary_70.pkl\n"
          ]
        }
      ]
    },
    {
      "cell_type": "code",
      "metadata": {
        "id": "iMipUSDM_Ns9"
      },
      "source": [
        "df = pd.read_csv('TrainEventDictionary_70.csv')"
      ],
      "execution_count": null,
      "outputs": []
    },
    {
      "cell_type": "code",
      "metadata": {
        "id": "ddrr3SLr4GuP"
      },
      "source": [
        "df2 = pd.read_csv('TestEventDictionary_70.csv')"
      ],
      "execution_count": null,
      "outputs": []
    },
    {
      "cell_type": "code",
      "metadata": {
        "id": "_BNoajzxIUZT"
      },
      "source": [
        "df = pd.concat([df, df2])"
      ],
      "execution_count": null,
      "outputs": []
    },
    {
      "cell_type": "code",
      "metadata": {
        "id": "A2VMc614ar-d"
      },
      "source": [
        "df = df.drop(columns=['SESSION', 'tag', 'eventPressure', 'eventType'])"
      ],
      "execution_count": null,
      "outputs": []
    },
    {
      "cell_type": "code",
      "metadata": {
        "id": "I-LmE2gfaHQj"
      },
      "source": [
        "df = df.rename(columns= {'eventTime': 'time', 'positionX': 'Xvalue', 'positionY': 'Yvalue'})"
      ],
      "execution_count": null,
      "outputs": []
    },
    {
      "cell_type": "code",
      "metadata": {
        "id": "8McmCnoAa-gp"
      },
      "source": [
        "df['touchMajor'] = [0]*len(df['time'])\n",
        "df['touchMinor'] = [0]*len(df['time'])"
      ],
      "execution_count": null,
      "outputs": []
    },
    {
      "cell_type": "code",
      "metadata": {
        "colab": {
          "base_uri": "https://localhost:8080/",
          "height": 423
        },
        "id": "xkCeS-ivbb4n",
        "outputId": "b92af445-a52f-4b77-bea3-850a662d1921"
      },
      "source": [
        "df"
      ],
      "execution_count": null,
      "outputs": [
        {
          "data": {
            "text/html": [
              "<div>\n",
              "<style scoped>\n",
              "    .dataframe tbody tr th:only-of-type {\n",
              "        vertical-align: middle;\n",
              "    }\n",
              "\n",
              "    .dataframe tbody tr th {\n",
              "        vertical-align: top;\n",
              "    }\n",
              "\n",
              "    .dataframe thead th {\n",
              "        text-align: right;\n",
              "    }\n",
              "</style>\n",
              "<table border=\"1\" class=\"dataframe\">\n",
              "  <thead>\n",
              "    <tr style=\"text-align: right;\">\n",
              "      <th></th>\n",
              "      <th>index1</th>\n",
              "      <th>index2</th>\n",
              "      <th>time</th>\n",
              "      <th>USER</th>\n",
              "      <th>Xvalue</th>\n",
              "      <th>Yvalue</th>\n",
              "      <th>touchMajor</th>\n",
              "      <th>touchMinor</th>\n",
              "    </tr>\n",
              "  </thead>\n",
              "  <tbody>\n",
              "    <tr>\n",
              "      <th>0</th>\n",
              "      <td>0</td>\n",
              "      <td>0</td>\n",
              "      <td>112632</td>\n",
              "      <td>Ph01USER001</td>\n",
              "      <td>981</td>\n",
              "      <td>976</td>\n",
              "      <td>0</td>\n",
              "      <td>0</td>\n",
              "    </tr>\n",
              "    <tr>\n",
              "      <th>1</th>\n",
              "      <td>0</td>\n",
              "      <td>1</td>\n",
              "      <td>112640</td>\n",
              "      <td>Ph01USER001</td>\n",
              "      <td>980</td>\n",
              "      <td>976</td>\n",
              "      <td>0</td>\n",
              "      <td>0</td>\n",
              "    </tr>\n",
              "    <tr>\n",
              "      <th>2</th>\n",
              "      <td>0</td>\n",
              "      <td>2</td>\n",
              "      <td>112648</td>\n",
              "      <td>Ph01USER001</td>\n",
              "      <td>976</td>\n",
              "      <td>976</td>\n",
              "      <td>0</td>\n",
              "      <td>0</td>\n",
              "    </tr>\n",
              "    <tr>\n",
              "      <th>3</th>\n",
              "      <td>0</td>\n",
              "      <td>3</td>\n",
              "      <td>112657</td>\n",
              "      <td>Ph01USER001</td>\n",
              "      <td>970</td>\n",
              "      <td>976</td>\n",
              "      <td>0</td>\n",
              "      <td>0</td>\n",
              "    </tr>\n",
              "    <tr>\n",
              "      <th>4</th>\n",
              "      <td>0</td>\n",
              "      <td>4</td>\n",
              "      <td>112665</td>\n",
              "      <td>Ph01USER001</td>\n",
              "      <td>960</td>\n",
              "      <td>976</td>\n",
              "      <td>0</td>\n",
              "      <td>0</td>\n",
              "    </tr>\n",
              "    <tr>\n",
              "      <th>...</th>\n",
              "      <td>...</td>\n",
              "      <td>...</td>\n",
              "      <td>...</td>\n",
              "      <td>...</td>\n",
              "      <td>...</td>\n",
              "      <td>...</td>\n",
              "      <td>...</td>\n",
              "      <td>...</td>\n",
              "    </tr>\n",
              "    <tr>\n",
              "      <th>833260</th>\n",
              "      <td>18</td>\n",
              "      <td>1</td>\n",
              "      <td>4188292</td>\n",
              "      <td>Ph10USER004</td>\n",
              "      <td>1485</td>\n",
              "      <td>681</td>\n",
              "      <td>0</td>\n",
              "      <td>0</td>\n",
              "    </tr>\n",
              "    <tr>\n",
              "      <th>833261</th>\n",
              "      <td>18</td>\n",
              "      <td>2</td>\n",
              "      <td>4188309</td>\n",
              "      <td>Ph10USER004</td>\n",
              "      <td>1485</td>\n",
              "      <td>679</td>\n",
              "      <td>0</td>\n",
              "      <td>0</td>\n",
              "    </tr>\n",
              "    <tr>\n",
              "      <th>833262</th>\n",
              "      <td>18</td>\n",
              "      <td>3</td>\n",
              "      <td>4188326</td>\n",
              "      <td>Ph10USER004</td>\n",
              "      <td>1485</td>\n",
              "      <td>677</td>\n",
              "      <td>0</td>\n",
              "      <td>0</td>\n",
              "    </tr>\n",
              "    <tr>\n",
              "      <th>833263</th>\n",
              "      <td>18</td>\n",
              "      <td>4</td>\n",
              "      <td>4188343</td>\n",
              "      <td>Ph10USER004</td>\n",
              "      <td>1485</td>\n",
              "      <td>675</td>\n",
              "      <td>0</td>\n",
              "      <td>0</td>\n",
              "    </tr>\n",
              "    <tr>\n",
              "      <th>833264</th>\n",
              "      <td>18</td>\n",
              "      <td>5</td>\n",
              "      <td>4188360</td>\n",
              "      <td>Ph10USER004</td>\n",
              "      <td>1486</td>\n",
              "      <td>673</td>\n",
              "      <td>0</td>\n",
              "      <td>0</td>\n",
              "    </tr>\n",
              "  </tbody>\n",
              "</table>\n",
              "<p>3587980 rows × 8 columns</p>\n",
              "</div>"
            ],
            "text/plain": [
              "        index1  index2     time  ... Yvalue  touchMajor  touchMinor\n",
              "0            0       0   112632  ...    976           0           0\n",
              "1            0       1   112640  ...    976           0           0\n",
              "2            0       2   112648  ...    976           0           0\n",
              "3            0       3   112657  ...    976           0           0\n",
              "4            0       4   112665  ...    976           0           0\n",
              "...        ...     ...      ...  ...    ...         ...         ...\n",
              "833260      18       1  4188292  ...    681           0           0\n",
              "833261      18       2  4188309  ...    679           0           0\n",
              "833262      18       3  4188326  ...    677           0           0\n",
              "833263      18       4  4188343  ...    675           0           0\n",
              "833264      18       5  4188360  ...    673           0           0\n",
              "\n",
              "[3587980 rows x 8 columns]"
            ]
          },
          "execution_count": 89,
          "metadata": {},
          "output_type": "execute_result"
        }
      ]
    },
    {
      "cell_type": "code",
      "metadata": {
        "id": "cv-rtbX2H6RM"
      },
      "source": [
        "def extract_swipes(df):\n",
        "  swipes = defaultdict(lambda : [])\n",
        "  swipe = []\n",
        "  prev = -1\n",
        "  prev_user = None\n",
        "  for index, row in tqdm(df.iterrows()):\n",
        "      if prev == row['index1']:\n",
        "        swipe.append(row)\n",
        "      else:\n",
        "        if len(swipe) > 5: \n",
        "          swipes[prev_user].append(extract_features(swipe))\n",
        "        swipe = [row]\n",
        "        prev_user = row['USER']\n",
        "        prev = row['index1']\n",
        "  return swipes"
      ],
      "execution_count": null,
      "outputs": []
    },
    {
      "cell_type": "code",
      "metadata": {
        "colab": {
          "base_uri": "https://localhost:8080/"
        },
        "id": "8gueCSbYc0C6",
        "outputId": "9d963744-bcb4-4629-f660-72e889c44a50"
      },
      "source": [
        "oo = extract_swipes(df)"
      ],
      "execution_count": null,
      "outputs": [
        {
          "name": "stderr",
          "output_type": "stream",
          "text": [
            "3587980it [20:17, 2947.54it/s]\n"
          ]
        }
      ]
    },
    {
      "cell_type": "code",
      "metadata": {
        "colab": {
          "base_uri": "https://localhost:8080/"
        },
        "id": "MXQZxh15jLZ8",
        "outputId": "d1a98ccc-1051-467f-a9d3-772de70e8c4b"
      },
      "source": [
        "oo.keys()"
      ],
      "execution_count": null,
      "outputs": [
        {
          "data": {
            "text/plain": [
              "dict_keys(['Ph01USER001', 'Ph01USER002', 'Ph01USER003', 'Ph01USER004', 'Takeout', 'Ph02USER001', 'Ph02USER002', 'Ph02USER003', 'Ph02USER004', 'Ph02USER005', 'Ph03USER001', 'Ph03USER002', 'Ph03USER003', 'Ph04USER001', 'Ph04USER002', 'Ph04USER003', 'Ph04USER004', 'Ph05USER001', 'Ph05USER002', 'Ph05USER003', 'Ph05USER004', 'Ph06USER001', 'Ph06USER002', 'Ph06USER003', 'Ph06USER005', 'Ph08USER001', 'Ph08USER002', 'Ph08USER003', 'Ph09USER001', 'Ph09USER002', 'Ph09USER003', 'Ph09USER004', 'Ph10USER001', 'Ph10USER002', 'Ph10USER003', 'Ph10USER004'])"
            ]
          },
          "execution_count": 93,
          "metadata": {},
          "output_type": "execute_result"
        }
      ]
    },
    {
      "cell_type": "code",
      "metadata": {
        "colab": {
          "background_save": true,
          "base_uri": "https://localhost:8080/"
        },
        "id": "8Eg2iYmhjYuU",
        "outputId": "fe1b1d5e-c125-426a-90a5-78d17571e6ea"
      },
      "source": [
        "cd /content/drive/Mydr"
      ],
      "execution_count": null,
      "outputs": [
        {
          "name": "stdout",
          "output_type": "stream",
          "text": [
            "/content/drive/.shortcut-targets-by-id/1Syra_U__eAe_iKmuKYWf9ykv4tC2_7tW/BBMAS_Touchstrokes\n"
          ]
        }
      ]
    },
    {
      "cell_type": "code",
      "metadata": {
        "colab": {
          "base_uri": "https://localhost:8080/",
          "height": 836
        },
        "id": "_5OKCR-xfCtS",
        "outputId": "3da777be-7d80-414d-cd21-e079bd45563c"
      },
      "source": [
        "pickling('umdaa_features.pkl', ooo)"
      ],
      "execution_count": null,
      "outputs": [
        {
          "name": "stderr",
          "output_type": "stream",
          "text": [
            "ERROR:root:Internal Python error in the inspect module.\n",
            "Below is the traceback from this internal error.\n",
            "\n"
          ]
        },
        {
          "name": "stdout",
          "output_type": "stream",
          "text": [
            "Traceback (most recent call last):\n",
            "  File \"/usr/local/lib/python3.7/dist-packages/IPython/core/interactiveshell.py\", line 2882, in run_code\n",
            "    exec(code_obj, self.user_global_ns, self.user_ns)\n",
            "  File \"<ipython-input-103-d6e06be4eecc>\", line 1, in <module>\n",
            "    pickling('umdaa_features.pkl', ooo)\n",
            "  File \"<ipython-input-40-75fce63ccefb>\", line 2, in pickling\n",
            "    f = open(fname, \"wb\")\n",
            "OSError: [Errno 30] Read-only file system: 'umdaa_features.pkl'\n",
            "\n",
            "During handling of the above exception, another exception occurred:\n",
            "\n",
            "Traceback (most recent call last):\n",
            "  File \"/usr/local/lib/python3.7/dist-packages/IPython/core/interactiveshell.py\", line 1823, in showtraceback\n",
            "    stb = value._render_traceback_()\n",
            "AttributeError: 'OSError' object has no attribute '_render_traceback_'\n",
            "\n",
            "During handling of the above exception, another exception occurred:\n",
            "\n",
            "Traceback (most recent call last):\n",
            "  File \"/usr/local/lib/python3.7/dist-packages/IPython/core/ultratb.py\", line 1132, in get_records\n",
            "    return _fixed_getinnerframes(etb, number_of_lines_of_context, tb_offset)\n",
            "  File \"/usr/local/lib/python3.7/dist-packages/IPython/core/ultratb.py\", line 313, in wrapped\n",
            "    return f(*args, **kwargs)\n",
            "  File \"/usr/local/lib/python3.7/dist-packages/IPython/core/ultratb.py\", line 358, in _fixed_getinnerframes\n",
            "    records = fix_frame_records_filenames(inspect.getinnerframes(etb, context))\n",
            "  File \"/usr/lib/python3.7/inspect.py\", line 1502, in getinnerframes\n",
            "    frameinfo = (tb.tb_frame,) + getframeinfo(tb, context)\n",
            "  File \"/usr/lib/python3.7/inspect.py\", line 1460, in getframeinfo\n",
            "    filename = getsourcefile(frame) or getfile(frame)\n",
            "  File \"/usr/lib/python3.7/inspect.py\", line 696, in getsourcefile\n",
            "    if getattr(getmodule(object, filename), '__loader__', None) is not None:\n",
            "  File \"/usr/lib/python3.7/inspect.py\", line 725, in getmodule\n",
            "    file = getabsfile(object, _filename)\n",
            "  File \"/usr/lib/python3.7/inspect.py\", line 709, in getabsfile\n",
            "    return os.path.normcase(os.path.abspath(_filename))\n",
            "  File \"/usr/lib/python3.7/posixpath.py\", line 383, in abspath\n",
            "    cwd = os.getcwd()\n",
            "FileNotFoundError: [Errno 2] No such file or directory\n"
          ]
        },
        {
          "ename": "OSError",
          "evalue": "ignored",
          "output_type": "error",
          "traceback": [
            "\u001b[0;31m---------------------------------------------------------------------------\u001b[0m"
          ]
        }
      ]
    },
    {
      "cell_type": "code",
      "source": [
        "f = unpickling('umdaa_features.pkl')"
      ],
      "metadata": {
        "id": "0XA3enxBEUOL"
      },
      "execution_count": null,
      "outputs": []
    }
  ]
}